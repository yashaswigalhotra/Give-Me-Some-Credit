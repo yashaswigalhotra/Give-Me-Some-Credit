{
  "cells": [
    {
      "cell_type": "markdown",
      "source": [
        "# Step 1 : Importing important libraries\n"
      ],
      "metadata": {
        "id": "VeEjTSby0_wR"
      },
      "id": "VeEjTSby0_wR"
    },
    {
      "cell_type": "code",
      "execution_count": 120,
      "id": "1509f99f",
      "metadata": {
        "_cell_guid": "b1076dfc-b9ad-4769-8c92-a6c4dae69d19",
        "_uuid": "8f2839f25d086af736a60e9eeb907d3b93b6e0e5",
        "execution": {
          "iopub.execute_input": "2023-01-11T04:11:25.271974Z",
          "iopub.status.busy": "2023-01-11T04:11:25.270730Z",
          "iopub.status.idle": "2023-01-11T04:11:38.964858Z",
          "shell.execute_reply": "2023-01-11T04:11:38.963758Z"
        },
        "id": "1509f99f",
        "papermill": {
          "duration": 13.712236,
          "end_time": "2023-01-11T04:11:38.968218",
          "exception": false,
          "start_time": "2023-01-11T04:11:25.255982",
          "status": "completed"
        },
        "tags": []
      },
      "outputs": [],
      "source": [
        "import numpy as np\n",
        "import pandas as pd\n",
        "import matplotlib.pyplot as plt\n",
        "import seaborn as sns    \n",
        "import missingno as missno\n",
        "from sklearn.model_selection import train_test_split, GridSearchCV, cross_val_score, StratifiedKFold\n",
        "from imblearn.over_sampling import RandomOverSampler\n",
        "from sklearn.metrics import auc, roc_curve\n",
        "from sklearn.linear_model import LogisticRegression\n",
        "from xgboost import XGBClassifier\n",
        "from sklearn.ensemble import GradientBoostingClassifier, RandomForestClassifier, AdaBoostClassifier, StackingClassifier\n",
        "from sklearn.tree import DecisionTreeClassifier\n",
        "from scipy import stats\n",
        "from statsmodels.stats.outliers_influence import variance_inflation_factor\n",
        "from sklearn.feature_selection import VarianceThreshold\n",
        "from sklearn.svm import SVC"
      ]
    },
    {
      "cell_type": "markdown",
      "source": [
        "# Step 2: Load the data"
      ],
      "metadata": {
        "id": "06JDKKsN1ECp"
      },
      "id": "06JDKKsN1ECp"
    },
    {
      "cell_type": "code",
      "execution_count": 121,
      "id": "2bda5243",
      "metadata": {
        "execution": {
          "iopub.execute_input": "2023-01-11T04:11:38.996823Z",
          "iopub.status.busy": "2023-01-11T04:11:38.996452Z",
          "iopub.status.idle": "2023-01-11T04:11:39.281267Z",
          "shell.execute_reply": "2023-01-11T04:11:39.280175Z"
        },
        "id": "2bda5243",
        "outputId": "74d80e20-eb13-4b9e-d299-3080c21f638d",
        "papermill": {
          "duration": 0.302697,
          "end_time": "2023-01-11T04:11:39.283696",
          "exception": false,
          "start_time": "2023-01-11T04:11:38.980999",
          "status": "completed"
        },
        "tags": [],
        "colab": {
          "base_uri": "https://localhost:8080/",
          "height": 444
        }
      },
      "outputs": [
        {
          "output_type": "execute_result",
          "data": {
            "text/plain": [
              "   Unnamed: 0  SeriousDlqin2yrs  RevolvingUtilizationOfUnsecuredLines  age  \\\n",
              "0           1                 1                              0.766127   45   \n",
              "1           2                 0                              0.957151   40   \n",
              "2           3                 0                              0.658180   38   \n",
              "3           4                 0                              0.233810   30   \n",
              "4           5                 0                              0.907239   49   \n",
              "5           6                 0                              0.213179   74   \n",
              "6           7                 0                              0.305682   57   \n",
              "7           8                 0                              0.754464   39   \n",
              "8           9                 0                              0.116951   27   \n",
              "9          10                 0                              0.189169   57   \n",
              "\n",
              "   NumberOfTime30-59DaysPastDueNotWorse    DebtRatio  MonthlyIncome  \\\n",
              "0                                     2     0.802982         9120.0   \n",
              "1                                     0     0.121876         2600.0   \n",
              "2                                     1     0.085113         3042.0   \n",
              "3                                     0     0.036050         3300.0   \n",
              "4                                     1     0.024926        63588.0   \n",
              "5                                     0     0.375607         3500.0   \n",
              "6                                     0  5710.000000            NaN   \n",
              "7                                     0     0.209940         3500.0   \n",
              "8                                     0    46.000000            NaN   \n",
              "9                                     0     0.606291        23684.0   \n",
              "\n",
              "   NumberOfOpenCreditLinesAndLoans  NumberOfTimes90DaysLate  \\\n",
              "0                               13                        0   \n",
              "1                                4                        0   \n",
              "2                                2                        1   \n",
              "3                                5                        0   \n",
              "4                                7                        0   \n",
              "5                                3                        0   \n",
              "6                                8                        0   \n",
              "7                                8                        0   \n",
              "8                                2                        0   \n",
              "9                                9                        0   \n",
              "\n",
              "   NumberRealEstateLoansOrLines  NumberOfTime60-89DaysPastDueNotWorse  \\\n",
              "0                             6                                     0   \n",
              "1                             0                                     0   \n",
              "2                             0                                     0   \n",
              "3                             0                                     0   \n",
              "4                             1                                     0   \n",
              "5                             1                                     0   \n",
              "6                             3                                     0   \n",
              "7                             0                                     0   \n",
              "8                             0                                     0   \n",
              "9                             4                                     0   \n",
              "\n",
              "   NumberOfDependents  \n",
              "0                 2.0  \n",
              "1                 1.0  \n",
              "2                 0.0  \n",
              "3                 0.0  \n",
              "4                 0.0  \n",
              "5                 1.0  \n",
              "6                 0.0  \n",
              "7                 0.0  \n",
              "8                 NaN  \n",
              "9                 2.0  "
            ],
            "text/html": [
              "\n",
              "  <div id=\"df-74e87285-6796-40ef-ac56-c9285692cdbe\">\n",
              "    <div class=\"colab-df-container\">\n",
              "      <div>\n",
              "<style scoped>\n",
              "    .dataframe tbody tr th:only-of-type {\n",
              "        vertical-align: middle;\n",
              "    }\n",
              "\n",
              "    .dataframe tbody tr th {\n",
              "        vertical-align: top;\n",
              "    }\n",
              "\n",
              "    .dataframe thead th {\n",
              "        text-align: right;\n",
              "    }\n",
              "</style>\n",
              "<table border=\"1\" class=\"dataframe\">\n",
              "  <thead>\n",
              "    <tr style=\"text-align: right;\">\n",
              "      <th></th>\n",
              "      <th>Unnamed: 0</th>\n",
              "      <th>SeriousDlqin2yrs</th>\n",
              "      <th>RevolvingUtilizationOfUnsecuredLines</th>\n",
              "      <th>age</th>\n",
              "      <th>NumberOfTime30-59DaysPastDueNotWorse</th>\n",
              "      <th>DebtRatio</th>\n",
              "      <th>MonthlyIncome</th>\n",
              "      <th>NumberOfOpenCreditLinesAndLoans</th>\n",
              "      <th>NumberOfTimes90DaysLate</th>\n",
              "      <th>NumberRealEstateLoansOrLines</th>\n",
              "      <th>NumberOfTime60-89DaysPastDueNotWorse</th>\n",
              "      <th>NumberOfDependents</th>\n",
              "    </tr>\n",
              "  </thead>\n",
              "  <tbody>\n",
              "    <tr>\n",
              "      <th>0</th>\n",
              "      <td>1</td>\n",
              "      <td>1</td>\n",
              "      <td>0.766127</td>\n",
              "      <td>45</td>\n",
              "      <td>2</td>\n",
              "      <td>0.802982</td>\n",
              "      <td>9120.0</td>\n",
              "      <td>13</td>\n",
              "      <td>0</td>\n",
              "      <td>6</td>\n",
              "      <td>0</td>\n",
              "      <td>2.0</td>\n",
              "    </tr>\n",
              "    <tr>\n",
              "      <th>1</th>\n",
              "      <td>2</td>\n",
              "      <td>0</td>\n",
              "      <td>0.957151</td>\n",
              "      <td>40</td>\n",
              "      <td>0</td>\n",
              "      <td>0.121876</td>\n",
              "      <td>2600.0</td>\n",
              "      <td>4</td>\n",
              "      <td>0</td>\n",
              "      <td>0</td>\n",
              "      <td>0</td>\n",
              "      <td>1.0</td>\n",
              "    </tr>\n",
              "    <tr>\n",
              "      <th>2</th>\n",
              "      <td>3</td>\n",
              "      <td>0</td>\n",
              "      <td>0.658180</td>\n",
              "      <td>38</td>\n",
              "      <td>1</td>\n",
              "      <td>0.085113</td>\n",
              "      <td>3042.0</td>\n",
              "      <td>2</td>\n",
              "      <td>1</td>\n",
              "      <td>0</td>\n",
              "      <td>0</td>\n",
              "      <td>0.0</td>\n",
              "    </tr>\n",
              "    <tr>\n",
              "      <th>3</th>\n",
              "      <td>4</td>\n",
              "      <td>0</td>\n",
              "      <td>0.233810</td>\n",
              "      <td>30</td>\n",
              "      <td>0</td>\n",
              "      <td>0.036050</td>\n",
              "      <td>3300.0</td>\n",
              "      <td>5</td>\n",
              "      <td>0</td>\n",
              "      <td>0</td>\n",
              "      <td>0</td>\n",
              "      <td>0.0</td>\n",
              "    </tr>\n",
              "    <tr>\n",
              "      <th>4</th>\n",
              "      <td>5</td>\n",
              "      <td>0</td>\n",
              "      <td>0.907239</td>\n",
              "      <td>49</td>\n",
              "      <td>1</td>\n",
              "      <td>0.024926</td>\n",
              "      <td>63588.0</td>\n",
              "      <td>7</td>\n",
              "      <td>0</td>\n",
              "      <td>1</td>\n",
              "      <td>0</td>\n",
              "      <td>0.0</td>\n",
              "    </tr>\n",
              "    <tr>\n",
              "      <th>5</th>\n",
              "      <td>6</td>\n",
              "      <td>0</td>\n",
              "      <td>0.213179</td>\n",
              "      <td>74</td>\n",
              "      <td>0</td>\n",
              "      <td>0.375607</td>\n",
              "      <td>3500.0</td>\n",
              "      <td>3</td>\n",
              "      <td>0</td>\n",
              "      <td>1</td>\n",
              "      <td>0</td>\n",
              "      <td>1.0</td>\n",
              "    </tr>\n",
              "    <tr>\n",
              "      <th>6</th>\n",
              "      <td>7</td>\n",
              "      <td>0</td>\n",
              "      <td>0.305682</td>\n",
              "      <td>57</td>\n",
              "      <td>0</td>\n",
              "      <td>5710.000000</td>\n",
              "      <td>NaN</td>\n",
              "      <td>8</td>\n",
              "      <td>0</td>\n",
              "      <td>3</td>\n",
              "      <td>0</td>\n",
              "      <td>0.0</td>\n",
              "    </tr>\n",
              "    <tr>\n",
              "      <th>7</th>\n",
              "      <td>8</td>\n",
              "      <td>0</td>\n",
              "      <td>0.754464</td>\n",
              "      <td>39</td>\n",
              "      <td>0</td>\n",
              "      <td>0.209940</td>\n",
              "      <td>3500.0</td>\n",
              "      <td>8</td>\n",
              "      <td>0</td>\n",
              "      <td>0</td>\n",
              "      <td>0</td>\n",
              "      <td>0.0</td>\n",
              "    </tr>\n",
              "    <tr>\n",
              "      <th>8</th>\n",
              "      <td>9</td>\n",
              "      <td>0</td>\n",
              "      <td>0.116951</td>\n",
              "      <td>27</td>\n",
              "      <td>0</td>\n",
              "      <td>46.000000</td>\n",
              "      <td>NaN</td>\n",
              "      <td>2</td>\n",
              "      <td>0</td>\n",
              "      <td>0</td>\n",
              "      <td>0</td>\n",
              "      <td>NaN</td>\n",
              "    </tr>\n",
              "    <tr>\n",
              "      <th>9</th>\n",
              "      <td>10</td>\n",
              "      <td>0</td>\n",
              "      <td>0.189169</td>\n",
              "      <td>57</td>\n",
              "      <td>0</td>\n",
              "      <td>0.606291</td>\n",
              "      <td>23684.0</td>\n",
              "      <td>9</td>\n",
              "      <td>0</td>\n",
              "      <td>4</td>\n",
              "      <td>0</td>\n",
              "      <td>2.0</td>\n",
              "    </tr>\n",
              "  </tbody>\n",
              "</table>\n",
              "</div>\n",
              "      <button class=\"colab-df-convert\" onclick=\"convertToInteractive('df-74e87285-6796-40ef-ac56-c9285692cdbe')\"\n",
              "              title=\"Convert this dataframe to an interactive table.\"\n",
              "              style=\"display:none;\">\n",
              "        \n",
              "  <svg xmlns=\"http://www.w3.org/2000/svg\" height=\"24px\"viewBox=\"0 0 24 24\"\n",
              "       width=\"24px\">\n",
              "    <path d=\"M0 0h24v24H0V0z\" fill=\"none\"/>\n",
              "    <path d=\"M18.56 5.44l.94 2.06.94-2.06 2.06-.94-2.06-.94-.94-2.06-.94 2.06-2.06.94zm-11 1L8.5 8.5l.94-2.06 2.06-.94-2.06-.94L8.5 2.5l-.94 2.06-2.06.94zm10 10l.94 2.06.94-2.06 2.06-.94-2.06-.94-.94-2.06-.94 2.06-2.06.94z\"/><path d=\"M17.41 7.96l-1.37-1.37c-.4-.4-.92-.59-1.43-.59-.52 0-1.04.2-1.43.59L10.3 9.45l-7.72 7.72c-.78.78-.78 2.05 0 2.83L4 21.41c.39.39.9.59 1.41.59.51 0 1.02-.2 1.41-.59l7.78-7.78 2.81-2.81c.8-.78.8-2.07 0-2.86zM5.41 20L4 18.59l7.72-7.72 1.47 1.35L5.41 20z\"/>\n",
              "  </svg>\n",
              "      </button>\n",
              "      \n",
              "  <style>\n",
              "    .colab-df-container {\n",
              "      display:flex;\n",
              "      flex-wrap:wrap;\n",
              "      gap: 12px;\n",
              "    }\n",
              "\n",
              "    .colab-df-convert {\n",
              "      background-color: #E8F0FE;\n",
              "      border: none;\n",
              "      border-radius: 50%;\n",
              "      cursor: pointer;\n",
              "      display: none;\n",
              "      fill: #1967D2;\n",
              "      height: 32px;\n",
              "      padding: 0 0 0 0;\n",
              "      width: 32px;\n",
              "    }\n",
              "\n",
              "    .colab-df-convert:hover {\n",
              "      background-color: #E2EBFA;\n",
              "      box-shadow: 0px 1px 2px rgba(60, 64, 67, 0.3), 0px 1px 3px 1px rgba(60, 64, 67, 0.15);\n",
              "      fill: #174EA6;\n",
              "    }\n",
              "\n",
              "    [theme=dark] .colab-df-convert {\n",
              "      background-color: #3B4455;\n",
              "      fill: #D2E3FC;\n",
              "    }\n",
              "\n",
              "    [theme=dark] .colab-df-convert:hover {\n",
              "      background-color: #434B5C;\n",
              "      box-shadow: 0px 1px 3px 1px rgba(0, 0, 0, 0.15);\n",
              "      filter: drop-shadow(0px 1px 2px rgba(0, 0, 0, 0.3));\n",
              "      fill: #FFFFFF;\n",
              "    }\n",
              "  </style>\n",
              "\n",
              "      <script>\n",
              "        const buttonEl =\n",
              "          document.querySelector('#df-74e87285-6796-40ef-ac56-c9285692cdbe button.colab-df-convert');\n",
              "        buttonEl.style.display =\n",
              "          google.colab.kernel.accessAllowed ? 'block' : 'none';\n",
              "\n",
              "        async function convertToInteractive(key) {\n",
              "          const element = document.querySelector('#df-74e87285-6796-40ef-ac56-c9285692cdbe');\n",
              "          const dataTable =\n",
              "            await google.colab.kernel.invokeFunction('convertToInteractive',\n",
              "                                                     [key], {});\n",
              "          if (!dataTable) return;\n",
              "\n",
              "          const docLinkHtml = 'Like what you see? Visit the ' +\n",
              "            '<a target=\"_blank\" href=https://colab.research.google.com/notebooks/data_table.ipynb>data table notebook</a>'\n",
              "            + ' to learn more about interactive tables.';\n",
              "          element.innerHTML = '';\n",
              "          dataTable['output_type'] = 'display_data';\n",
              "          await google.colab.output.renderOutput(dataTable, element);\n",
              "          const docLink = document.createElement('div');\n",
              "          docLink.innerHTML = docLinkHtml;\n",
              "          element.appendChild(docLink);\n",
              "        }\n",
              "      </script>\n",
              "    </div>\n",
              "  </div>\n",
              "  "
            ]
          },
          "metadata": {},
          "execution_count": 121
        }
      ],
      "source": [
        "train = pd.read_csv('cs-training.csv')\n",
        "test = pd.read_csv('cs-test.csv')\n",
        "train.head(10)"
      ]
    },
    {
      "cell_type": "markdown",
      "source": [
        "## Dropping the unnamed column since it has no use for prediction "
      ],
      "metadata": {
        "id": "zgwK5Qu81JA9"
      },
      "id": "zgwK5Qu81JA9"
    },
    {
      "cell_type": "code",
      "execution_count": 122,
      "id": "2c8566c8",
      "metadata": {
        "execution": {
          "iopub.execute_input": "2023-01-11T04:11:39.845394Z",
          "iopub.status.busy": "2023-01-11T04:11:39.844320Z",
          "iopub.status.idle": "2023-01-11T04:11:39.860559Z",
          "shell.execute_reply": "2023-01-11T04:11:39.859514Z"
        },
        "id": "2c8566c8",
        "papermill": {
          "duration": 0.033157,
          "end_time": "2023-01-11T04:11:39.863122",
          "exception": false,
          "start_time": "2023-01-11T04:11:39.829965",
          "status": "completed"
        },
        "tags": []
      },
      "outputs": [],
      "source": [
        "train.drop('Unnamed: 0', axis=1, inplace=True)\n",
        "test.drop('Unnamed: 0', axis=1, inplace=True)"
      ]
    },
    {
      "cell_type": "markdown",
      "source": [
        "# Step 3 : Understanding the data\n",
        "## Seeing the distribution of dataset in order to understand the data."
      ],
      "metadata": {
        "id": "6m-kMTVQ1QjT"
      },
      "id": "6m-kMTVQ1QjT"
    },
    {
      "cell_type": "code",
      "source": [
        "variables = pd.DataFrame(columns=['Variable','Number of unique values','Number of nulls', 'Values'])\n",
        "\n",
        "for i, var in enumerate(train.columns):\n",
        "    variables.loc[i] = [var, train[var].nunique(), train[var].isnull().sum(), train[var].unique().tolist()]\n",
        "v_dict = pd.read_excel('Data Dictionary.xls', index_col=0)\n",
        "variables.set_index('Variable').join(v_dict)"
      ],
      "metadata": {
        "colab": {
          "base_uri": "https://localhost:8080/",
          "height": 426
        },
        "id": "_fcfVaAClOS9",
        "outputId": "3ac6d77f-47e3-40df-8fac-0ae9b831085d"
      },
      "id": "_fcfVaAClOS9",
      "execution_count": 91,
      "outputs": [
        {
          "output_type": "execute_result",
          "data": {
            "text/plain": [
              "                                     Number of unique values Number of nulls  \\\n",
              "Variable                                                                       \n",
              "SeriousDlqin2yrs                                           2               0   \n",
              "RevolvingUtilizationOfUnsecuredLines                  125728               0   \n",
              "age                                                       86               0   \n",
              "NumberOfTime30-59DaysPastDueNotWorse                      16               0   \n",
              "DebtRatio                                             114194               0   \n",
              "MonthlyIncome                                          13594           29731   \n",
              "NumberOfOpenCreditLinesAndLoans                           58               0   \n",
              "NumberOfTimes90DaysLate                                   19               0   \n",
              "NumberRealEstateLoansOrLines                              28               0   \n",
              "NumberOfTime60-89DaysPastDueNotWorse                      13               0   \n",
              "NumberOfDependents                                        13            3924   \n",
              "\n",
              "                                                                                 Values  \\\n",
              "Variable                                                                                  \n",
              "SeriousDlqin2yrs                                                                 [1, 0]   \n",
              "RevolvingUtilizationOfUnsecuredLines  [0.766126609, 0.957151019, 0.65818014, 0.23380...   \n",
              "age                                   [45, 40, 38, 30, 49, 74, 57, 39, 27, 51, 46, 7...   \n",
              "NumberOfTime30-59DaysPastDueNotWorse  [2, 0, 1, 3, 4, 5, 7, 10, 6, 98, 12, 8, 9, 96,...   \n",
              "DebtRatio                             [0.802982129, 0.121876201, 0.085113375, 0.0360...   \n",
              "MonthlyIncome                         [9120.0, 2600.0, 3042.0, 3300.0, 63588.0, 3500...   \n",
              "NumberOfOpenCreditLinesAndLoans       [13, 4, 2, 5, 7, 3, 8, 9, 6, 10, 14, 22, 17, 1...   \n",
              "NumberOfTimes90DaysLate               [0, 1, 3, 2, 5, 4, 98, 10, 9, 6, 7, 8, 15, 96,...   \n",
              "NumberRealEstateLoansOrLines          [6, 0, 1, 3, 4, 2, 5, 8, 7, 9, 17, 15, 10, 12,...   \n",
              "NumberOfTime60-89DaysPastDueNotWorse         [0, 1, 2, 5, 3, 98, 4, 6, 7, 8, 96, 11, 9]   \n",
              "NumberOfDependents                    [2.0, 1.0, 0.0, nan, 3.0, 4.0, 5.0, 6.0, 8.0, ...   \n",
              "\n",
              "                                                                             Unnamed: 1  \\\n",
              "Variable                                                                                  \n",
              "SeriousDlqin2yrs                      Person experienced 90 days past due delinquenc...   \n",
              "RevolvingUtilizationOfUnsecuredLines  Total balance on credit cards and personal lin...   \n",
              "age                                                            Age of borrower in years   \n",
              "NumberOfTime30-59DaysPastDueNotWorse  Number of times borrower has been 30-59 days p...   \n",
              "DebtRatio                             Monthly debt payments, alimony,living costs di...   \n",
              "MonthlyIncome                                                            Monthly income   \n",
              "NumberOfOpenCreditLinesAndLoans       Number of Open loans (installment like car loa...   \n",
              "NumberOfTimes90DaysLate               Number of times borrower has been 90 days or m...   \n",
              "NumberRealEstateLoansOrLines          Number of mortgage and real estate loans inclu...   \n",
              "NumberOfTime60-89DaysPastDueNotWorse  Number of times borrower has been 60-89 days p...   \n",
              "NumberOfDependents                    Number of dependents in family excluding thems...   \n",
              "\n",
              "                                      Unnamed: 2  \n",
              "Variable                                          \n",
              "SeriousDlqin2yrs                             Y/N  \n",
              "RevolvingUtilizationOfUnsecuredLines  percentage  \n",
              "age                                      integer  \n",
              "NumberOfTime30-59DaysPastDueNotWorse     integer  \n",
              "DebtRatio                             percentage  \n",
              "MonthlyIncome                               real  \n",
              "NumberOfOpenCreditLinesAndLoans          integer  \n",
              "NumberOfTimes90DaysLate                  integer  \n",
              "NumberRealEstateLoansOrLines             integer  \n",
              "NumberOfTime60-89DaysPastDueNotWorse     integer  \n",
              "NumberOfDependents                       integer  "
            ],
            "text/html": [
              "\n",
              "  <div id=\"df-eb8aaaaf-1526-456f-b6c6-88ebcf7dcc34\">\n",
              "    <div class=\"colab-df-container\">\n",
              "      <div>\n",
              "<style scoped>\n",
              "    .dataframe tbody tr th:only-of-type {\n",
              "        vertical-align: middle;\n",
              "    }\n",
              "\n",
              "    .dataframe tbody tr th {\n",
              "        vertical-align: top;\n",
              "    }\n",
              "\n",
              "    .dataframe thead th {\n",
              "        text-align: right;\n",
              "    }\n",
              "</style>\n",
              "<table border=\"1\" class=\"dataframe\">\n",
              "  <thead>\n",
              "    <tr style=\"text-align: right;\">\n",
              "      <th></th>\n",
              "      <th>Number of unique values</th>\n",
              "      <th>Number of nulls</th>\n",
              "      <th>Values</th>\n",
              "      <th>Unnamed: 1</th>\n",
              "      <th>Unnamed: 2</th>\n",
              "    </tr>\n",
              "    <tr>\n",
              "      <th>Variable</th>\n",
              "      <th></th>\n",
              "      <th></th>\n",
              "      <th></th>\n",
              "      <th></th>\n",
              "      <th></th>\n",
              "    </tr>\n",
              "  </thead>\n",
              "  <tbody>\n",
              "    <tr>\n",
              "      <th>SeriousDlqin2yrs</th>\n",
              "      <td>2</td>\n",
              "      <td>0</td>\n",
              "      <td>[1, 0]</td>\n",
              "      <td>Person experienced 90 days past due delinquenc...</td>\n",
              "      <td>Y/N</td>\n",
              "    </tr>\n",
              "    <tr>\n",
              "      <th>RevolvingUtilizationOfUnsecuredLines</th>\n",
              "      <td>125728</td>\n",
              "      <td>0</td>\n",
              "      <td>[0.766126609, 0.957151019, 0.65818014, 0.23380...</td>\n",
              "      <td>Total balance on credit cards and personal lin...</td>\n",
              "      <td>percentage</td>\n",
              "    </tr>\n",
              "    <tr>\n",
              "      <th>age</th>\n",
              "      <td>86</td>\n",
              "      <td>0</td>\n",
              "      <td>[45, 40, 38, 30, 49, 74, 57, 39, 27, 51, 46, 7...</td>\n",
              "      <td>Age of borrower in years</td>\n",
              "      <td>integer</td>\n",
              "    </tr>\n",
              "    <tr>\n",
              "      <th>NumberOfTime30-59DaysPastDueNotWorse</th>\n",
              "      <td>16</td>\n",
              "      <td>0</td>\n",
              "      <td>[2, 0, 1, 3, 4, 5, 7, 10, 6, 98, 12, 8, 9, 96,...</td>\n",
              "      <td>Number of times borrower has been 30-59 days p...</td>\n",
              "      <td>integer</td>\n",
              "    </tr>\n",
              "    <tr>\n",
              "      <th>DebtRatio</th>\n",
              "      <td>114194</td>\n",
              "      <td>0</td>\n",
              "      <td>[0.802982129, 0.121876201, 0.085113375, 0.0360...</td>\n",
              "      <td>Monthly debt payments, alimony,living costs di...</td>\n",
              "      <td>percentage</td>\n",
              "    </tr>\n",
              "    <tr>\n",
              "      <th>MonthlyIncome</th>\n",
              "      <td>13594</td>\n",
              "      <td>29731</td>\n",
              "      <td>[9120.0, 2600.0, 3042.0, 3300.0, 63588.0, 3500...</td>\n",
              "      <td>Monthly income</td>\n",
              "      <td>real</td>\n",
              "    </tr>\n",
              "    <tr>\n",
              "      <th>NumberOfOpenCreditLinesAndLoans</th>\n",
              "      <td>58</td>\n",
              "      <td>0</td>\n",
              "      <td>[13, 4, 2, 5, 7, 3, 8, 9, 6, 10, 14, 22, 17, 1...</td>\n",
              "      <td>Number of Open loans (installment like car loa...</td>\n",
              "      <td>integer</td>\n",
              "    </tr>\n",
              "    <tr>\n",
              "      <th>NumberOfTimes90DaysLate</th>\n",
              "      <td>19</td>\n",
              "      <td>0</td>\n",
              "      <td>[0, 1, 3, 2, 5, 4, 98, 10, 9, 6, 7, 8, 15, 96,...</td>\n",
              "      <td>Number of times borrower has been 90 days or m...</td>\n",
              "      <td>integer</td>\n",
              "    </tr>\n",
              "    <tr>\n",
              "      <th>NumberRealEstateLoansOrLines</th>\n",
              "      <td>28</td>\n",
              "      <td>0</td>\n",
              "      <td>[6, 0, 1, 3, 4, 2, 5, 8, 7, 9, 17, 15, 10, 12,...</td>\n",
              "      <td>Number of mortgage and real estate loans inclu...</td>\n",
              "      <td>integer</td>\n",
              "    </tr>\n",
              "    <tr>\n",
              "      <th>NumberOfTime60-89DaysPastDueNotWorse</th>\n",
              "      <td>13</td>\n",
              "      <td>0</td>\n",
              "      <td>[0, 1, 2, 5, 3, 98, 4, 6, 7, 8, 96, 11, 9]</td>\n",
              "      <td>Number of times borrower has been 60-89 days p...</td>\n",
              "      <td>integer</td>\n",
              "    </tr>\n",
              "    <tr>\n",
              "      <th>NumberOfDependents</th>\n",
              "      <td>13</td>\n",
              "      <td>3924</td>\n",
              "      <td>[2.0, 1.0, 0.0, nan, 3.0, 4.0, 5.0, 6.0, 8.0, ...</td>\n",
              "      <td>Number of dependents in family excluding thems...</td>\n",
              "      <td>integer</td>\n",
              "    </tr>\n",
              "  </tbody>\n",
              "</table>\n",
              "</div>\n",
              "      <button class=\"colab-df-convert\" onclick=\"convertToInteractive('df-eb8aaaaf-1526-456f-b6c6-88ebcf7dcc34')\"\n",
              "              title=\"Convert this dataframe to an interactive table.\"\n",
              "              style=\"display:none;\">\n",
              "        \n",
              "  <svg xmlns=\"http://www.w3.org/2000/svg\" height=\"24px\"viewBox=\"0 0 24 24\"\n",
              "       width=\"24px\">\n",
              "    <path d=\"M0 0h24v24H0V0z\" fill=\"none\"/>\n",
              "    <path d=\"M18.56 5.44l.94 2.06.94-2.06 2.06-.94-2.06-.94-.94-2.06-.94 2.06-2.06.94zm-11 1L8.5 8.5l.94-2.06 2.06-.94-2.06-.94L8.5 2.5l-.94 2.06-2.06.94zm10 10l.94 2.06.94-2.06 2.06-.94-2.06-.94-.94-2.06-.94 2.06-2.06.94z\"/><path d=\"M17.41 7.96l-1.37-1.37c-.4-.4-.92-.59-1.43-.59-.52 0-1.04.2-1.43.59L10.3 9.45l-7.72 7.72c-.78.78-.78 2.05 0 2.83L4 21.41c.39.39.9.59 1.41.59.51 0 1.02-.2 1.41-.59l7.78-7.78 2.81-2.81c.8-.78.8-2.07 0-2.86zM5.41 20L4 18.59l7.72-7.72 1.47 1.35L5.41 20z\"/>\n",
              "  </svg>\n",
              "      </button>\n",
              "      \n",
              "  <style>\n",
              "    .colab-df-container {\n",
              "      display:flex;\n",
              "      flex-wrap:wrap;\n",
              "      gap: 12px;\n",
              "    }\n",
              "\n",
              "    .colab-df-convert {\n",
              "      background-color: #E8F0FE;\n",
              "      border: none;\n",
              "      border-radius: 50%;\n",
              "      cursor: pointer;\n",
              "      display: none;\n",
              "      fill: #1967D2;\n",
              "      height: 32px;\n",
              "      padding: 0 0 0 0;\n",
              "      width: 32px;\n",
              "    }\n",
              "\n",
              "    .colab-df-convert:hover {\n",
              "      background-color: #E2EBFA;\n",
              "      box-shadow: 0px 1px 2px rgba(60, 64, 67, 0.3), 0px 1px 3px 1px rgba(60, 64, 67, 0.15);\n",
              "      fill: #174EA6;\n",
              "    }\n",
              "\n",
              "    [theme=dark] .colab-df-convert {\n",
              "      background-color: #3B4455;\n",
              "      fill: #D2E3FC;\n",
              "    }\n",
              "\n",
              "    [theme=dark] .colab-df-convert:hover {\n",
              "      background-color: #434B5C;\n",
              "      box-shadow: 0px 1px 3px 1px rgba(0, 0, 0, 0.15);\n",
              "      filter: drop-shadow(0px 1px 2px rgba(0, 0, 0, 0.3));\n",
              "      fill: #FFFFFF;\n",
              "    }\n",
              "  </style>\n",
              "\n",
              "      <script>\n",
              "        const buttonEl =\n",
              "          document.querySelector('#df-eb8aaaaf-1526-456f-b6c6-88ebcf7dcc34 button.colab-df-convert');\n",
              "        buttonEl.style.display =\n",
              "          google.colab.kernel.accessAllowed ? 'block' : 'none';\n",
              "\n",
              "        async function convertToInteractive(key) {\n",
              "          const element = document.querySelector('#df-eb8aaaaf-1526-456f-b6c6-88ebcf7dcc34');\n",
              "          const dataTable =\n",
              "            await google.colab.kernel.invokeFunction('convertToInteractive',\n",
              "                                                     [key], {});\n",
              "          if (!dataTable) return;\n",
              "\n",
              "          const docLinkHtml = 'Like what you see? Visit the ' +\n",
              "            '<a target=\"_blank\" href=https://colab.research.google.com/notebooks/data_table.ipynb>data table notebook</a>'\n",
              "            + ' to learn more about interactive tables.';\n",
              "          element.innerHTML = '';\n",
              "          dataTable['output_type'] = 'display_data';\n",
              "          await google.colab.output.renderOutput(dataTable, element);\n",
              "          const docLink = document.createElement('div');\n",
              "          docLink.innerHTML = docLinkHtml;\n",
              "          element.appendChild(docLink);\n",
              "        }\n",
              "      </script>\n",
              "    </div>\n",
              "  </div>\n",
              "  "
            ]
          },
          "metadata": {},
          "execution_count": 91
        }
      ]
    },
    {
      "cell_type": "markdown",
      "source": [
        "### Representing number of null column in terms of percentage for each column to check if percentage of null cells is more than 10% or not. If yes will try to remove that column"
      ],
      "metadata": {
        "id": "mIpOGbR61Uye"
      },
      "id": "mIpOGbR61Uye"
    },
    {
      "cell_type": "code",
      "execution_count": 123,
      "id": "af8f7ded",
      "metadata": {
        "execution": {
          "iopub.execute_input": "2023-01-11T04:11:39.893645Z",
          "iopub.status.busy": "2023-01-11T04:11:39.892360Z",
          "iopub.status.idle": "2023-01-11T04:11:41.490013Z",
          "shell.execute_reply": "2023-01-11T04:11:41.488850Z"
        },
        "id": "af8f7ded",
        "outputId": "da216f25-aa54-45ee-8dda-ce6bd5cd7492",
        "papermill": {
          "duration": 1.615884,
          "end_time": "2023-01-11T04:11:41.492864",
          "exception": false,
          "start_time": "2023-01-11T04:11:39.876980",
          "status": "completed"
        },
        "tags": [],
        "colab": {
          "base_uri": "https://localhost:8080/"
        }
      },
      "outputs": [
        {
          "output_type": "stream",
          "name": "stdout",
          "text": [
            "0, Missing: 0 (0.0%)\n",
            "1, Missing: 0 (0.0%)\n",
            "2, Missing: 0 (0.0%)\n",
            "3, Missing: 0 (0.0%)\n",
            "4, Missing: 0 (0.0%)\n",
            "5, Missing: 29731 (19.8%)\n",
            "6, Missing: 0 (0.0%)\n",
            "7, Missing: 0 (0.0%)\n",
            "8, Missing: 0 (0.0%)\n",
            "9, Missing: 0 (0.0%)\n",
            "10, Missing: 3924 (2.6%)\n"
          ]
        }
      ],
      "source": [
        "for i in range(train.shape[1]):\n",
        "    n_miss = train.iloc[:,i].isnull().sum()\n",
        "    perc = n_miss / train.shape[0] * 100\n",
        "    print('%d, Missing: %d (%.1f%%)' % (i, n_miss, perc))"
      ]
    },
    {
      "cell_type": "markdown",
      "source": [
        "### Filling the missing cell value with median of values of that column for better dataset"
      ],
      "metadata": {
        "id": "5hfXIP9T1Y4h"
      },
      "id": "5hfXIP9T1Y4h"
    },
    {
      "cell_type": "code",
      "execution_count": 124,
      "id": "cb70d86b",
      "metadata": {
        "execution": {
          "iopub.execute_input": "2023-01-11T04:11:43.305865Z",
          "iopub.status.busy": "2023-01-11T04:11:43.305118Z",
          "iopub.status.idle": "2023-01-11T04:11:43.329759Z",
          "shell.execute_reply": "2023-01-11T04:11:43.328668Z"
        },
        "id": "cb70d86b",
        "papermill": {
          "duration": 0.043595,
          "end_time": "2023-01-11T04:11:43.332480",
          "exception": false,
          "start_time": "2023-01-11T04:11:43.288885",
          "status": "completed"
        },
        "tags": []
      },
      "outputs": [],
      "source": [
        "train['MonthlyIncome'] = train['MonthlyIncome'].fillna(train['MonthlyIncome'].median())\n",
        "test['MonthlyIncome'] = test['MonthlyIncome'].fillna(test['MonthlyIncome'].median())\n",
        "\n",
        "train['NumberOfDependents'] = train['NumberOfDependents'].fillna(train['NumberOfDependents'].median())\n",
        "test['NumberOfDependents'] = test['NumberOfDependents'].fillna(test['NumberOfDependents'].median())"
      ]
    },
    {
      "cell_type": "markdown",
      "source": [
        "# Step 5 : Removing skewness\n",
        "### Skewness is a measure of symmetry, or more precisely, the lack of symmetry. · If the skewness is between -0.5 and 0.5, the data are fairly symmetrical · If the skewness is between -1 and — 0.5 or between 0.5 and 1, the data are moderately skewed · If the skewness is less than -1 or greater than 1, the data are highly skewed"
      ],
      "metadata": {
        "id": "BswvOfU01ir0"
      },
      "id": "BswvOfU01ir0"
    },
    {
      "cell_type": "code",
      "execution_count": 125,
      "id": "d39260d4",
      "metadata": {
        "execution": {
          "iopub.execute_input": "2023-01-11T04:11:43.365774Z",
          "iopub.status.busy": "2023-01-11T04:11:43.364723Z",
          "iopub.status.idle": "2023-01-11T04:11:43.394579Z",
          "shell.execute_reply": "2023-01-11T04:11:43.393304Z"
        },
        "id": "d39260d4",
        "outputId": "038cbf86-2629-494f-a5d3-674d2f226b7d",
        "papermill": {
          "duration": 0.049855,
          "end_time": "2023-01-11T04:11:43.398190",
          "exception": false,
          "start_time": "2023-01-11T04:11:43.348335",
          "status": "completed"
        },
        "tags": [],
        "colab": {
          "base_uri": "https://localhost:8080/",
          "height": 363
        }
      },
      "outputs": [
        {
          "output_type": "execute_result",
          "data": {
            "text/plain": [
              "                                            skew\n",
              "MonthlyIncome                         127.121696\n",
              "RevolvingUtilizationOfUnsecuredLines   97.631574\n",
              "DebtRatio                              95.157793\n",
              "NumberOfTime60-89DaysPastDueNotWorse   23.331743\n",
              "NumberOfTimes90DaysLate                23.087345\n",
              "NumberOfTime30-59DaysPastDueNotWorse   22.597108\n",
              "NumberRealEstateLoansOrLines            3.482484\n",
              "SeriousDlqin2yrs                        3.468857\n",
              "NumberOfDependents                      1.626059\n",
              "NumberOfOpenCreditLinesAndLoans         1.215314"
            ],
            "text/html": [
              "\n",
              "  <div id=\"df-1f802f86-1050-4185-8832-f8e59c614770\">\n",
              "    <div class=\"colab-df-container\">\n",
              "      <div>\n",
              "<style scoped>\n",
              "    .dataframe tbody tr th:only-of-type {\n",
              "        vertical-align: middle;\n",
              "    }\n",
              "\n",
              "    .dataframe tbody tr th {\n",
              "        vertical-align: top;\n",
              "    }\n",
              "\n",
              "    .dataframe thead th {\n",
              "        text-align: right;\n",
              "    }\n",
              "</style>\n",
              "<table border=\"1\" class=\"dataframe\">\n",
              "  <thead>\n",
              "    <tr style=\"text-align: right;\">\n",
              "      <th></th>\n",
              "      <th>skew</th>\n",
              "    </tr>\n",
              "  </thead>\n",
              "  <tbody>\n",
              "    <tr>\n",
              "      <th>MonthlyIncome</th>\n",
              "      <td>127.121696</td>\n",
              "    </tr>\n",
              "    <tr>\n",
              "      <th>RevolvingUtilizationOfUnsecuredLines</th>\n",
              "      <td>97.631574</td>\n",
              "    </tr>\n",
              "    <tr>\n",
              "      <th>DebtRatio</th>\n",
              "      <td>95.157793</td>\n",
              "    </tr>\n",
              "    <tr>\n",
              "      <th>NumberOfTime60-89DaysPastDueNotWorse</th>\n",
              "      <td>23.331743</td>\n",
              "    </tr>\n",
              "    <tr>\n",
              "      <th>NumberOfTimes90DaysLate</th>\n",
              "      <td>23.087345</td>\n",
              "    </tr>\n",
              "    <tr>\n",
              "      <th>NumberOfTime30-59DaysPastDueNotWorse</th>\n",
              "      <td>22.597108</td>\n",
              "    </tr>\n",
              "    <tr>\n",
              "      <th>NumberRealEstateLoansOrLines</th>\n",
              "      <td>3.482484</td>\n",
              "    </tr>\n",
              "    <tr>\n",
              "      <th>SeriousDlqin2yrs</th>\n",
              "      <td>3.468857</td>\n",
              "    </tr>\n",
              "    <tr>\n",
              "      <th>NumberOfDependents</th>\n",
              "      <td>1.626059</td>\n",
              "    </tr>\n",
              "    <tr>\n",
              "      <th>NumberOfOpenCreditLinesAndLoans</th>\n",
              "      <td>1.215314</td>\n",
              "    </tr>\n",
              "  </tbody>\n",
              "</table>\n",
              "</div>\n",
              "      <button class=\"colab-df-convert\" onclick=\"convertToInteractive('df-1f802f86-1050-4185-8832-f8e59c614770')\"\n",
              "              title=\"Convert this dataframe to an interactive table.\"\n",
              "              style=\"display:none;\">\n",
              "        \n",
              "  <svg xmlns=\"http://www.w3.org/2000/svg\" height=\"24px\"viewBox=\"0 0 24 24\"\n",
              "       width=\"24px\">\n",
              "    <path d=\"M0 0h24v24H0V0z\" fill=\"none\"/>\n",
              "    <path d=\"M18.56 5.44l.94 2.06.94-2.06 2.06-.94-2.06-.94-.94-2.06-.94 2.06-2.06.94zm-11 1L8.5 8.5l.94-2.06 2.06-.94-2.06-.94L8.5 2.5l-.94 2.06-2.06.94zm10 10l.94 2.06.94-2.06 2.06-.94-2.06-.94-.94-2.06-.94 2.06-2.06.94z\"/><path d=\"M17.41 7.96l-1.37-1.37c-.4-.4-.92-.59-1.43-.59-.52 0-1.04.2-1.43.59L10.3 9.45l-7.72 7.72c-.78.78-.78 2.05 0 2.83L4 21.41c.39.39.9.59 1.41.59.51 0 1.02-.2 1.41-.59l7.78-7.78 2.81-2.81c.8-.78.8-2.07 0-2.86zM5.41 20L4 18.59l7.72-7.72 1.47 1.35L5.41 20z\"/>\n",
              "  </svg>\n",
              "      </button>\n",
              "      \n",
              "  <style>\n",
              "    .colab-df-container {\n",
              "      display:flex;\n",
              "      flex-wrap:wrap;\n",
              "      gap: 12px;\n",
              "    }\n",
              "\n",
              "    .colab-df-convert {\n",
              "      background-color: #E8F0FE;\n",
              "      border: none;\n",
              "      border-radius: 50%;\n",
              "      cursor: pointer;\n",
              "      display: none;\n",
              "      fill: #1967D2;\n",
              "      height: 32px;\n",
              "      padding: 0 0 0 0;\n",
              "      width: 32px;\n",
              "    }\n",
              "\n",
              "    .colab-df-convert:hover {\n",
              "      background-color: #E2EBFA;\n",
              "      box-shadow: 0px 1px 2px rgba(60, 64, 67, 0.3), 0px 1px 3px 1px rgba(60, 64, 67, 0.15);\n",
              "      fill: #174EA6;\n",
              "    }\n",
              "\n",
              "    [theme=dark] .colab-df-convert {\n",
              "      background-color: #3B4455;\n",
              "      fill: #D2E3FC;\n",
              "    }\n",
              "\n",
              "    [theme=dark] .colab-df-convert:hover {\n",
              "      background-color: #434B5C;\n",
              "      box-shadow: 0px 1px 3px 1px rgba(0, 0, 0, 0.15);\n",
              "      filter: drop-shadow(0px 1px 2px rgba(0, 0, 0, 0.3));\n",
              "      fill: #FFFFFF;\n",
              "    }\n",
              "  </style>\n",
              "\n",
              "      <script>\n",
              "        const buttonEl =\n",
              "          document.querySelector('#df-1f802f86-1050-4185-8832-f8e59c614770 button.colab-df-convert');\n",
              "        buttonEl.style.display =\n",
              "          google.colab.kernel.accessAllowed ? 'block' : 'none';\n",
              "\n",
              "        async function convertToInteractive(key) {\n",
              "          const element = document.querySelector('#df-1f802f86-1050-4185-8832-f8e59c614770');\n",
              "          const dataTable =\n",
              "            await google.colab.kernel.invokeFunction('convertToInteractive',\n",
              "                                                     [key], {});\n",
              "          if (!dataTable) return;\n",
              "\n",
              "          const docLinkHtml = 'Like what you see? Visit the ' +\n",
              "            '<a target=\"_blank\" href=https://colab.research.google.com/notebooks/data_table.ipynb>data table notebook</a>'\n",
              "            + ' to learn more about interactive tables.';\n",
              "          element.innerHTML = '';\n",
              "          dataTable['output_type'] = 'display_data';\n",
              "          await google.colab.output.renderOutput(dataTable, element);\n",
              "          const docLink = document.createElement('div');\n",
              "          docLink.innerHTML = docLinkHtml;\n",
              "          element.appendChild(docLink);\n",
              "        }\n",
              "      </script>\n",
              "    </div>\n",
              "  </div>\n",
              "  "
            ]
          },
          "metadata": {},
          "execution_count": 125
        }
      ],
      "source": [
        "skew =train.skew().sort_values(ascending =False )\n",
        "skew2= pd.DataFrame({'skew':skew})\n",
        "skew2.head(10)"
      ]
    },
    {
      "cell_type": "markdown",
      "source": [
        "### Our Data is Highly skewed , we corrected values which are highly skewed below before modeling\n",
        "### Before correcting, monthly income dist plot."
      ],
      "metadata": {
        "id": "S4_8tYnb1qPu"
      },
      "id": "S4_8tYnb1qPu"
    },
    {
      "cell_type": "code",
      "source": [
        "ds = sns.distplot(train['MonthlyIncome'])"
      ],
      "metadata": {
        "colab": {
          "base_uri": "https://localhost:8080/",
          "height": 345
        },
        "id": "I55lyYTrldbf",
        "outputId": "469ca21b-0f1c-400f-9f3a-48e92853abf0"
      },
      "id": "I55lyYTrldbf",
      "execution_count": 126,
      "outputs": [
        {
          "output_type": "stream",
          "name": "stderr",
          "text": [
            "/usr/local/lib/python3.8/dist-packages/seaborn/distributions.py:2619: FutureWarning: `distplot` is a deprecated function and will be removed in a future version. Please adapt your code to use either `displot` (a figure-level function with similar flexibility) or `histplot` (an axes-level function for histograms).\n",
            "  warnings.warn(msg, FutureWarning)\n"
          ]
        },
        {
          "output_type": "display_data",
          "data": {
            "text/plain": [
              "<Figure size 432x288 with 1 Axes>"
            ],
            "image/png": "[encoded data removed]"
          },
          "metadata": {
            "needs_background": "light"
          }
        }
      ]
    },
    {
      "cell_type": "markdown",
      "source": [
        "### After correcting, monthly income dist plot."
      ],
      "metadata": {
        "id": "VqvzVuRj1uz9"
      },
      "id": "VqvzVuRj1uz9"
    },
    {
      "cell_type": "code",
      "source": [
        "amount_corrected= np.log(train['MonthlyIncome' ]+1)\n",
        "train['MonthlyIncome'] = amount_corrected.skew()\n",
        "print(amount_corrected.skew())\n",
        "ds = sns.distplot(amount_corrected)"
      ],
      "metadata": {
        "colab": {
          "base_uri": "https://localhost:8080/",
          "height": 351
        },
        "id": "K3QNYushlde8",
        "outputId": "8530de0e-7c94-4f5c-ab5b-10ea26230115"
      },
      "id": "K3QNYushlde8",
      "execution_count": 127,
      "outputs": [
        {
          "output_type": "stream",
          "name": "stdout",
          "text": [
            "-4.937609756385132\n"
          ]
        },
        {
          "output_type": "stream",
          "name": "stderr",
          "text": [
            "/usr/local/lib/python3.8/dist-packages/seaborn/distributions.py:2619: FutureWarning: `distplot` is a deprecated function and will be removed in a future version. Please adapt your code to use either `displot` (a figure-level function with similar flexibility) or `histplot` (an axes-level function for histograms).\n",
            "  warnings.warn(msg, FutureWarning)\n"
          ]
        },
        {
          "output_type": "display_data",
          "data": {
            "text/plain": [
              "<Figure size 432x288 with 1 Axes>"
            ],
            "image/png": "[encoded data removed]"
          },
          "metadata": {
            "needs_background": "light"
          }
        }
      ]
    },
    {
      "cell_type": "markdown",
      "source": [
        "### Similarly for other values."
      ],
      "metadata": {
        "id": "z-oonFIn1yEp"
      },
      "id": "z-oonFIn1yEp"
    },
    {
      "cell_type": "code",
      "source": [
        "amount_corrected= np.log(train['RevolvingUtilizationOfUnsecuredLines']+1)\n",
        "train['RevolvingUtilizationOfUnsecuredLines'] = amount_corrected.skew()\n",
        "print(amount_corrected.skew())\n",
        "ds = sns.distplot(amount_corrected)"
      ],
      "metadata": {
        "colab": {
          "base_uri": "https://localhost:8080/",
          "height": 351
        },
        "id": "b4ZSomjoliRi",
        "outputId": "236454d7-26d5-430b-93fc-e1e4540252dc"
      },
      "id": "b4ZSomjoliRi",
      "execution_count": 128,
      "outputs": [
        {
          "output_type": "stream",
          "name": "stdout",
          "text": [
            "11.704798483586039\n"
          ]
        },
        {
          "output_type": "stream",
          "name": "stderr",
          "text": [
            "/usr/local/lib/python3.8/dist-packages/seaborn/distributions.py:2619: FutureWarning: `distplot` is a deprecated function and will be removed in a future version. Please adapt your code to use either `displot` (a figure-level function with similar flexibility) or `histplot` (an axes-level function for histograms).\n",
            "  warnings.warn(msg, FutureWarning)\n"
          ]
        },
        {
          "output_type": "display_data",
          "data": {
            "text/plain": [
              "<Figure size 432x288 with 1 Axes>"
            ],
            "image/png": "[encoded data removed]"
          },
          "metadata": {
            "needs_background": "light"
          }
        }
      ]
    },
    {
      "cell_type": "markdown",
      "source": [
        "# Removing Outliers\n",
        "### Identifying outliers in data is an important part of statistical analyses. One simple rule of thumb (due to John Tukey) for finding outliers is based on the quartiles of the data: the first quartile Q1 is >= 0.25 of the data, the second quartile Q2 >= 0.50 of the data, and the third quartile Q3 >= 0.75 of the data. The interquartile range is IQR = Q3-Q1."
      ],
      "metadata": {
        "id": "AMzn7zWe11Am"
      },
      "id": "AMzn7zWe11Am"
    },
    {
      "cell_type": "code",
      "source": [
        "Q1 = train.quantile(0.25)\n",
        "Q3 = train.quantile(0.75)\n",
        "IQR = Q3 - Q1\n",
        "\n",
        "training_val = train.select_dtypes(exclude=['category']) \n",
        "df_out = training_val[~((training_val < (Q1 - 1.5 * IQR))|(training_val > (Q3 + 1.5 * IQR))).any(axis=1)]\n",
        "print(df_out.shape)"
      ],
      "metadata": {
        "colab": {
          "base_uri": "https://localhost:8080/"
        },
        "id": "lGC0fvWPltB2",
        "outputId": "64e08ca5-b38e-49b9-f661-fd077828714d"
      },
      "id": "lGC0fvWPltB2",
      "execution_count": 129,
      "outputs": [
        {
          "output_type": "stream",
          "name": "stdout",
          "text": [
            "(79882, 11)\n"
          ]
        }
      ]
    },
    {
      "cell_type": "markdown",
      "source": [
        "# Arranging the high correlation values with the probability of loan accordingly"
      ],
      "metadata": {
        "id": "HVDfUjoe18hy"
      },
      "id": "HVDfUjoe18hy"
    },
    {
      "cell_type": "code",
      "execution_count": 99,
      "id": "b5ab9493",
      "metadata": {
        "execution": {
          "iopub.execute_input": "2023-01-11T04:11:43.431452Z",
          "iopub.status.busy": "2023-01-11T04:11:43.430354Z",
          "iopub.status.idle": "2023-01-11T04:11:45.834284Z",
          "shell.execute_reply": "2023-01-11T04:11:45.833182Z"
        },
        "id": "b5ab9493",
        "outputId": "024e89cb-67ac-4c53-f274-510c8903d1f5",
        "papermill": {
          "duration": 2.423816,
          "end_time": "2023-01-11T04:11:45.837568",
          "exception": false,
          "start_time": "2023-01-11T04:11:43.413752",
          "status": "completed"
        },
        "tags": [],
        "colab": {
          "base_uri": "https://localhost:8080/",
          "height": 830
        }
      },
      "outputs": [
        {
          "output_type": "stream",
          "name": "stderr",
          "text": [
            "/usr/local/lib/python3.8/dist-packages/scipy/stats/stats.py:4812: RuntimeWarning: overflow encountered in long_scalars\n",
            "  (2 * xtie * ytie) / m + x0 * y0 / (9 * m * (size - 2)))\n"
          ]
        },
        {
          "output_type": "stream",
          "name": "stdout",
          "text": [
            "Features's correlation with Target Feature\n",
            "SeriousDlqin2yrs 1.0\n",
            "RevolvingUtilizationOfUnsecuredLines nan\n",
            "age -0.09644051844401222\n",
            "NumberOfTime30-59DaysPastDueNotWorse 0.2522709715697707\n",
            "DebtRatio 0.0168236921881525\n",
            "MonthlyIncome nan\n",
            "NumberOfOpenCreditLinesAndLoans -0.03246025235750907\n",
            "NumberOfTimes90DaysLate 0.3396965173417035\n",
            "NumberRealEstateLoansOrLines -0.03169693388388846\n",
            "NumberOfTime60-89DaysPastDueNotWorse 0.2756871735837887\n",
            "NumberOfDependents 0.04408369395260646\n"
          ]
        },
        {
          "output_type": "display_data",
          "data": {
            "text/plain": [
              "<Figure size 720x432 with 2 Axes>"
            ],
            "image/png": "[encoded data removed]"
          },
          "metadata": {
            "needs_background": "light"
          }
        }
      ],
      "source": [
        "correlation = train.corr(method='kendall')\n",
        "plt.figure(figsize=(10, 6))\n",
        "sns.heatmap(correlation, annot=True)\n",
        "print('Features having correlation with Target Feature')\n",
        "for indx, cor in enumerate(correlation['SeriousDlqin2yrs']):\n",
        "    print(correlation.index[indx], cor)"
      ]
    },
    {
      "cell_type": "code",
      "source": [
        "corrmat = train.corr()\n",
        "corr_with_target = corrmat['SeriousDlqin2yrs'].apply(abs).sort_values(ascending=False)\n",
        "corr_with_target.drop(['SeriousDlqin2yrs'], inplace=True)\n",
        "df = pd.DataFrame(data={'features': corr_with_target.index, 'target': corr_with_target.values})\n",
        "plt.figure(figsize=(20, 20))\n",
        "sns.barplot(x=\"target\", y=\"features\", data=df)\n",
        "plt.title('Correlation with target')\n",
        "plt.tight_layout()\n",
        "plt.show()"
      ],
      "metadata": {
        "colab": {
          "base_uri": "https://localhost:8080/",
          "height": 1000
        },
        "id": "NeUcf-TPlx_s",
        "outputId": "77d82917-fdda-4fef-e12d-5815f16bcf84"
      },
      "id": "NeUcf-TPlx_s",
      "execution_count": 100,
      "outputs": [
        {
          "output_type": "display_data",
          "data": {
            "text/plain": [
              "<Figure size 1440x1440 with 1 Axes>"
            ],
            "image/png": "[encoded data removed]"
          },
          "metadata": {
            "needs_background": "light"
          }
        }
      ]
    },
    {
      "cell_type": "markdown",
      "source": [
        "# Resolving the problem of multicollinearity"
      ],
      "metadata": {
        "id": "szEOrKfD2AHe"
      },
      "id": "szEOrKfD2AHe"
    },
    {
      "cell_type": "code",
      "execution_count": 101,
      "id": "1e9222d5",
      "metadata": {
        "execution": {
          "iopub.execute_input": "2023-01-11T04:11:49.620401Z",
          "iopub.status.busy": "2023-01-11T04:11:49.619778Z",
          "iopub.status.idle": "2023-01-11T04:11:49.651532Z",
          "shell.execute_reply": "2023-01-11T04:11:49.650196Z"
        },
        "id": "1e9222d5",
        "papermill": {
          "duration": 0.09623,
          "end_time": "2023-01-11T04:11:49.654632",
          "exception": false,
          "start_time": "2023-01-11T04:11:49.558402",
          "status": "completed"
        },
        "tags": []
      },
      "outputs": [],
      "source": [
        "train['total_past_due'] = train['NumberOfTime30-59DaysPastDueNotWorse'] + (2 * train['NumberOfTime60-89DaysPastDueNotWorse']) + (3*train['NumberOfTimes90DaysLate'])\n",
        "test['total_past_due'] = test['NumberOfTime30-59DaysPastDueNotWorse'] + (2 * test['NumberOfTime60-89DaysPastDueNotWorse']) + (3*test['NumberOfTimes90DaysLate'])\n",
        "\n",
        "train.drop(['NumberOfTime30-59DaysPastDueNotWorse', 'NumberOfTime60-89DaysPastDueNotWorse', 'NumberOfTimes90DaysLate'], axis=1, inplace=True)\n",
        "test.drop(['NumberOfTime30-59DaysPastDueNotWorse', 'NumberOfTime60-89DaysPastDueNotWorse', 'NumberOfTimes90DaysLate'], axis=1, inplace=True)"
      ]
    },
    {
      "cell_type": "markdown",
      "id": "437bc32d",
      "metadata": {
        "id": "437bc32d",
        "papermill": {
          "duration": 0.029563,
          "end_time": "2023-01-11T04:12:09.239974",
          "exception": false,
          "start_time": "2023-01-11T04:12:09.210411",
          "status": "completed"
        },
        "tags": []
      },
      "source": [
        "# Model building and Data modeling"
      ]
    },
    {
      "cell_type": "markdown",
      "source": [
        "### Our target value is SeriousDlqin2yrs so we will store in variable y and rest data in X for prediction"
      ],
      "metadata": {
        "id": "I0BVJMN32Gvl"
      },
      "id": "I0BVJMN32Gvl"
    },
    {
      "cell_type": "code",
      "execution_count": 102,
      "id": "4f820a8f",
      "metadata": {
        "execution": {
          "iopub.execute_input": "2023-01-11T04:12:09.291982Z",
          "iopub.status.busy": "2023-01-11T04:12:09.291596Z",
          "iopub.status.idle": "2023-01-11T04:12:09.359987Z",
          "shell.execute_reply": "2023-01-11T04:12:09.358896Z"
        },
        "id": "4f820a8f",
        "papermill": {
          "duration": 0.097673,
          "end_time": "2023-01-11T04:12:09.362821",
          "exception": false,
          "start_time": "2023-01-11T04:12:09.265148",
          "status": "completed"
        },
        "tags": []
      },
      "outputs": [],
      "source": [
        "x = train.drop('SeriousDlqin2yrs', axis=1)\n",
        "y = train['SeriousDlqin2yrs']\n",
        "xtrain, xtest, ytrain, ytest = train_test_split(x,y, test_size = 0.1, stratify=y, random_state=1234)"
      ]
    },
    {
      "cell_type": "code",
      "execution_count": 103,
      "id": "a61b8624",
      "metadata": {
        "execution": {
          "iopub.execute_input": "2023-01-11T04:12:09.414053Z",
          "iopub.status.busy": "2023-01-11T04:12:09.413654Z",
          "iopub.status.idle": "2023-01-11T04:20:10.304268Z",
          "shell.execute_reply": "2023-01-11T04:20:10.303180Z"
        },
        "id": "a61b8624",
        "outputId": "7bdf18f5-de2b-48a2-c625-fc7f98b06bdb",
        "papermill": {
          "duration": 480.944138,
          "end_time": "2023-01-11T04:20:10.331294",
          "exception": false,
          "start_time": "2023-01-11T04:12:09.387156",
          "status": "completed"
        },
        "tags": [],
        "colab": {
          "base_uri": "https://localhost:8080/"
        }
      },
      "outputs": [
        {
          "output_type": "execute_result",
          "data": {
            "text/plain": [
              "array([0.85076803, 0.8413539 , 0.84034363, 0.83415609, 0.83707987,\n",
              "       0.840689  , 0.84867917, 0.83255642, 0.84752759, 0.84660211])"
            ]
          },
          "metadata": {},
          "execution_count": 103
        }
      ],
      "source": [
        "base_model = GradientBoostingClassifier(n_estimators=250)\n",
        "skf = StratifiedKFold(n_splits=10)\n",
        "scores = cross_val_score(base_model, xtrain, ytrain, scoring = 'roc_auc', cv=skf) \n",
        "scores"
      ]
    },
    {
      "cell_type": "code",
      "execution_count": 105,
      "id": "2fb17749",
      "metadata": {
        "execution": {
          "iopub.execute_input": "2023-01-11T04:21:47.749309Z",
          "iopub.status.busy": "2023-01-11T04:21:47.748821Z",
          "iopub.status.idle": "2023-01-11T04:21:47.759203Z",
          "shell.execute_reply": "2023-01-11T04:21:47.758140Z"
        },
        "id": "2fb17749",
        "papermill": {
          "duration": 0.053669,
          "end_time": "2023-01-11T04:21:47.762384",
          "exception": false,
          "start_time": "2023-01-11T04:21:47.708715",
          "status": "completed"
        },
        "tags": []
      },
      "outputs": [],
      "source": [
        "def compute_model(model_obj, params):\n",
        "    grid_model = GridSearchCV(model_obj, params, cv=None)\n",
        "    grid_model.fit(xtrain, ytrain)\n",
        "    ypred_train = grid_model.best_estimator_.predict_proba(xtrain)[:,1]\n",
        "    ypred = grid_model.best_estimator_.predict_proba(xtest)[:,1]\n",
        "\n",
        "    fpr, tpr, thresholds = roc_curve(ytest, ypred, pos_label = 1)\n",
        "    score = auc(fpr, tpr)\n",
        "\n",
        "    result = {'auc':score}\n",
        "    return result, grid_model.best_estimator_"
      ]
    },
    {
      "cell_type": "markdown",
      "source": [
        "#LogisticRegression"
      ],
      "metadata": {
        "id": "zhSoR5FJ2V-X"
      },
      "id": "zhSoR5FJ2V-X"
    },
    {
      "cell_type": "code",
      "execution_count": 106,
      "id": "346e21d7",
      "metadata": {
        "execution": {
          "iopub.execute_input": "2023-01-11T04:21:47.838842Z",
          "iopub.status.busy": "2023-01-11T04:21:47.838393Z",
          "iopub.status.idle": "2023-01-11T04:22:01.699285Z",
          "shell.execute_reply": "2023-01-11T04:22:01.696819Z"
        },
        "id": "346e21d7",
        "outputId": "0dd1f03b-e1da-4a9c-ac83-76bfbbe0fd8f",
        "papermill": {
          "duration": 13.905857,
          "end_time": "2023-01-11T04:22:01.704571",
          "exception": false,
          "start_time": "2023-01-11T04:21:47.798714",
          "status": "completed"
        },
        "tags": [],
        "colab": {
          "base_uri": "https://localhost:8080/"
        }
      },
      "outputs": [
        {
          "output_type": "stream",
          "name": "stdout",
          "text": [
            "Logistic Regression {'auc': 0.8001022651841575}\n"
          ]
        }
      ],
      "source": [
        "lr_params = {}\n",
        "lr = LogisticRegression()\n",
        "result, best_estimator = compute_model(lr, lr_params)\n",
        "\n",
        "model_results = dict()\n",
        "model_results['Logistic Regression'] = [result, best_estimator]\n",
        "print('Logistic Regression', result)"
      ]
    },
    {
      "cell_type": "markdown",
      "source": [
        "#XGBoost"
      ],
      "metadata": {
        "id": "DXGBlWuj2Z0e"
      },
      "id": "DXGBlWuj2Z0e"
    },
    {
      "cell_type": "code",
      "execution_count": 107,
      "id": "6fd99038",
      "metadata": {
        "execution": {
          "iopub.execute_input": "2023-01-11T04:22:01.826675Z",
          "iopub.status.busy": "2023-01-11T04:22:01.826270Z",
          "iopub.status.idle": "2023-01-11T04:23:49.864347Z",
          "shell.execute_reply": "2023-01-11T04:23:49.863293Z"
        },
        "id": "6fd99038",
        "outputId": "3de38b00-219a-4a42-bf83-1ca348c40731",
        "papermill": {
          "duration": 108.118896,
          "end_time": "2023-01-11T04:23:49.889038",
          "exception": false,
          "start_time": "2023-01-11T04:22:01.770142",
          "status": "completed"
        },
        "tags": [],
        "colab": {
          "base_uri": "https://localhost:8080/"
        }
      },
      "outputs": [
        {
          "output_type": "stream",
          "name": "stdout",
          "text": [
            "XGBoost {'auc': 0.8554715221343185}\n"
          ]
        }
      ],
      "source": [
        "xg_param = {}\n",
        "xg = XGBClassifier()\n",
        "result, best_estimator = compute_model(xg, xg_param)\n",
        "\n",
        "model_results['XGBoost'] = [result, best_estimator]\n",
        "print('XGBoost', result)"
      ]
    },
    {
      "cell_type": "markdown",
      "source": [
        "#GradientBoost"
      ],
      "metadata": {
        "id": "3NM52wXE2cev"
      },
      "id": "3NM52wXE2cev"
    },
    {
      "cell_type": "code",
      "execution_count": 108,
      "id": "90faa98a",
      "metadata": {
        "execution": {
          "iopub.execute_input": "2023-01-11T04:23:49.939890Z",
          "iopub.status.busy": "2023-01-11T04:23:49.939510Z",
          "iopub.status.idle": "2023-01-11T04:27:00.173372Z",
          "shell.execute_reply": "2023-01-11T04:27:00.172306Z"
        },
        "id": "90faa98a",
        "outputId": "c8e06018-0524-4d55-bd8b-6aad453413ae",
        "papermill": {
          "duration": 190.286115,
          "end_time": "2023-01-11T04:27:00.199767",
          "exception": false,
          "start_time": "2023-01-11T04:23:49.913652",
          "status": "completed"
        },
        "tags": [],
        "colab": {
          "base_uri": "https://localhost:8080/"
        }
      },
      "outputs": [
        {
          "output_type": "stream",
          "name": "stdout",
          "text": [
            "GradientBoosting {'auc': 0.8560802909553828}\n"
          ]
        }
      ],
      "source": [
        "gb_param = {} \n",
        "gb = GradientBoostingClassifier()\n",
        "result, best_estimator = compute_model(gb, gb_param)\n",
        "\n",
        "model_results['GradientBoosting'] = [result, best_estimator]\n",
        "print('GradientBoosting', result)"
      ]
    },
    {
      "cell_type": "markdown",
      "source": [
        "#Adaboost"
      ],
      "metadata": {
        "id": "vdTSAUIf2eNC"
      },
      "id": "vdTSAUIf2eNC"
    },
    {
      "cell_type": "code",
      "execution_count": 109,
      "id": "3cc6f946",
      "metadata": {
        "execution": {
          "iopub.execute_input": "2023-01-11T04:30:51.449409Z",
          "iopub.status.busy": "2023-01-11T04:30:51.449026Z",
          "iopub.status.idle": "2023-01-11T04:31:53.170987Z",
          "shell.execute_reply": "2023-01-11T04:31:53.166635Z"
        },
        "id": "3cc6f946",
        "outputId": "95306193-f36a-4950-8a36-a694bb0d58d9",
        "papermill": {
          "duration": 61.772254,
          "end_time": "2023-01-11T04:31:53.195524",
          "exception": false,
          "start_time": "2023-01-11T04:30:51.423270",
          "status": "completed"
        },
        "tags": [],
        "colab": {
          "base_uri": "https://localhost:8080/"
        }
      },
      "outputs": [
        {
          "output_type": "stream",
          "name": "stdout",
          "text": [
            "AdaBoost {'auc': 0.8525642975339183}\n"
          ]
        }
      ],
      "source": [
        "ab_param = {} \n",
        "ab = AdaBoostClassifier()\n",
        "result, best_estimator = compute_model(ab, ab_param)\n",
        "\n",
        "model_results['AdaBoost'] = [result, best_estimator]\n",
        "print('AdaBoost', result)"
      ]
    },
    {
      "cell_type": "markdown",
      "source": [
        "#Decision Tree"
      ],
      "metadata": {
        "id": "25yWYS332gNJ"
      },
      "id": "25yWYS332gNJ"
    },
    {
      "cell_type": "code",
      "execution_count": 110,
      "id": "8813e7cd",
      "metadata": {
        "execution": {
          "iopub.execute_input": "2023-01-11T04:31:53.247917Z",
          "iopub.status.busy": "2023-01-11T04:31:53.247515Z",
          "iopub.status.idle": "2023-01-11T04:32:09.402569Z",
          "shell.execute_reply": "2023-01-11T04:32:09.401527Z"
        },
        "id": "8813e7cd",
        "outputId": "28e929a5-0b70-4ea4-d1f0-4d5d8c562cb1",
        "papermill": {
          "duration": 16.18411,
          "end_time": "2023-01-11T04:32:09.404913",
          "exception": false,
          "start_time": "2023-01-11T04:31:53.220803",
          "status": "completed"
        },
        "tags": [],
        "colab": {
          "base_uri": "https://localhost:8080/"
        }
      },
      "outputs": [
        {
          "output_type": "stream",
          "name": "stdout",
          "text": [
            "DecisionTree {'auc': 0.8390682421550094}\n"
          ]
        }
      ],
      "source": [
        "dt_param =  {'max_depth': [3, 4, 5, 6, 7, 8]}\n",
        "dt = DecisionTreeClassifier()\n",
        "result, best_estimator = compute_model(dt, dt_param)\n",
        "\n",
        "model_results['DecisionTree'] = [result, best_estimator]\n",
        "print('DecisionTree', result)"
      ]
    },
    {
      "cell_type": "markdown",
      "source": [
        "# Results"
      ],
      "metadata": {
        "id": "zR_KGtFO2lkj"
      },
      "id": "zR_KGtFO2lkj"
    },
    {
      "cell_type": "code",
      "execution_count": 111,
      "id": "df81367e",
      "metadata": {
        "execution": {
          "iopub.execute_input": "2023-01-11T04:32:09.517287Z",
          "iopub.status.busy": "2023-01-11T04:32:09.516553Z",
          "iopub.status.idle": "2023-01-11T04:32:09.715293Z",
          "shell.execute_reply": "2023-01-11T04:32:09.714104Z"
        },
        "id": "df81367e",
        "outputId": "38a62d5a-781e-45ec-c445-01ead546c67e",
        "papermill": {
          "duration": 0.227892,
          "end_time": "2023-01-11T04:32:09.718074",
          "exception": false,
          "start_time": "2023-01-11T04:32:09.490182",
          "status": "completed"
        },
        "tags": [],
        "colab": {
          "base_uri": "https://localhost:8080/",
          "height": 206
        }
      },
      "outputs": [
        {
          "output_type": "execute_result",
          "data": {
            "text/plain": [
              "            model_name       auc  \\\n",
              "0  Logistic Regression  0.800102   \n",
              "1              XGBoost  0.855472   \n",
              "2     GradientBoosting  0.856080   \n",
              "3             AdaBoost  0.852564   \n",
              "4         DecisionTree  0.839068   \n",
              "\n",
              "                                          best_model  \n",
              "0                               LogisticRegression()  \n",
              "1                                    XGBClassifier()  \n",
              "2  ([DecisionTreeRegressor(criterion='friedman_ms...  \n",
              "3  (DecisionTreeClassifier(max_depth=1, random_st...  \n",
              "4                DecisionTreeClassifier(max_depth=7)  "
            ],
            "text/html": [
              "\n",
              "  <div id=\"df-17de4ef0-778e-41a1-bd66-31bb414d7a47\">\n",
              "    <div class=\"colab-df-container\">\n",
              "      <div>\n",
              "<style scoped>\n",
              "    .dataframe tbody tr th:only-of-type {\n",
              "        vertical-align: middle;\n",
              "    }\n",
              "\n",
              "    .dataframe tbody tr th {\n",
              "        vertical-align: top;\n",
              "    }\n",
              "\n",
              "    .dataframe thead th {\n",
              "        text-align: right;\n",
              "    }\n",
              "</style>\n",
              "<table border=\"1\" class=\"dataframe\">\n",
              "  <thead>\n",
              "    <tr style=\"text-align: right;\">\n",
              "      <th></th>\n",
              "      <th>model_name</th>\n",
              "      <th>auc</th>\n",
              "      <th>best_model</th>\n",
              "    </tr>\n",
              "  </thead>\n",
              "  <tbody>\n",
              "    <tr>\n",
              "      <th>0</th>\n",
              "      <td>Logistic Regression</td>\n",
              "      <td>0.800102</td>\n",
              "      <td>LogisticRegression()</td>\n",
              "    </tr>\n",
              "    <tr>\n",
              "      <th>1</th>\n",
              "      <td>XGBoost</td>\n",
              "      <td>0.855472</td>\n",
              "      <td>XGBClassifier()</td>\n",
              "    </tr>\n",
              "    <tr>\n",
              "      <th>2</th>\n",
              "      <td>GradientBoosting</td>\n",
              "      <td>0.856080</td>\n",
              "      <td>([DecisionTreeRegressor(criterion='friedman_ms...</td>\n",
              "    </tr>\n",
              "    <tr>\n",
              "      <th>3</th>\n",
              "      <td>AdaBoost</td>\n",
              "      <td>0.852564</td>\n",
              "      <td>(DecisionTreeClassifier(max_depth=1, random_st...</td>\n",
              "    </tr>\n",
              "    <tr>\n",
              "      <th>4</th>\n",
              "      <td>DecisionTree</td>\n",
              "      <td>0.839068</td>\n",
              "      <td>DecisionTreeClassifier(max_depth=7)</td>\n",
              "    </tr>\n",
              "  </tbody>\n",
              "</table>\n",
              "</div>\n",
              "      <button class=\"colab-df-convert\" onclick=\"convertToInteractive('df-17de4ef0-778e-41a1-bd66-31bb414d7a47')\"\n",
              "              title=\"Convert this dataframe to an interactive table.\"\n",
              "              style=\"display:none;\">\n",
              "        \n",
              "  <svg xmlns=\"http://www.w3.org/2000/svg\" height=\"24px\"viewBox=\"0 0 24 24\"\n",
              "       width=\"24px\">\n",
              "    <path d=\"M0 0h24v24H0V0z\" fill=\"none\"/>\n",
              "    <path d=\"M18.56 5.44l.94 2.06.94-2.06 2.06-.94-2.06-.94-.94-2.06-.94 2.06-2.06.94zm-11 1L8.5 8.5l.94-2.06 2.06-.94-2.06-.94L8.5 2.5l-.94 2.06-2.06.94zm10 10l.94 2.06.94-2.06 2.06-.94-2.06-.94-.94-2.06-.94 2.06-2.06.94z\"/><path d=\"M17.41 7.96l-1.37-1.37c-.4-.4-.92-.59-1.43-.59-.52 0-1.04.2-1.43.59L10.3 9.45l-7.72 7.72c-.78.78-.78 2.05 0 2.83L4 21.41c.39.39.9.59 1.41.59.51 0 1.02-.2 1.41-.59l7.78-7.78 2.81-2.81c.8-.78.8-2.07 0-2.86zM5.41 20L4 18.59l7.72-7.72 1.47 1.35L5.41 20z\"/>\n",
              "  </svg>\n",
              "      </button>\n",
              "      \n",
              "  <style>\n",
              "    .colab-df-container {\n",
              "      display:flex;\n",
              "      flex-wrap:wrap;\n",
              "      gap: 12px;\n",
              "    }\n",
              "\n",
              "    .colab-df-convert {\n",
              "      background-color: #E8F0FE;\n",
              "      border: none;\n",
              "      border-radius: 50%;\n",
              "      cursor: pointer;\n",
              "      display: none;\n",
              "      fill: #1967D2;\n",
              "      height: 32px;\n",
              "      padding: 0 0 0 0;\n",
              "      width: 32px;\n",
              "    }\n",
              "\n",
              "    .colab-df-convert:hover {\n",
              "      background-color: #E2EBFA;\n",
              "      box-shadow: 0px 1px 2px rgba(60, 64, 67, 0.3), 0px 1px 3px 1px rgba(60, 64, 67, 0.15);\n",
              "      fill: #174EA6;\n",
              "    }\n",
              "\n",
              "    [theme=dark] .colab-df-convert {\n",
              "      background-color: #3B4455;\n",
              "      fill: #D2E3FC;\n",
              "    }\n",
              "\n",
              "    [theme=dark] .colab-df-convert:hover {\n",
              "      background-color: #434B5C;\n",
              "      box-shadow: 0px 1px 3px 1px rgba(0, 0, 0, 0.15);\n",
              "      filter: drop-shadow(0px 1px 2px rgba(0, 0, 0, 0.3));\n",
              "      fill: #FFFFFF;\n",
              "    }\n",
              "  </style>\n",
              "\n",
              "      <script>\n",
              "        const buttonEl =\n",
              "          document.querySelector('#df-17de4ef0-778e-41a1-bd66-31bb414d7a47 button.colab-df-convert');\n",
              "        buttonEl.style.display =\n",
              "          google.colab.kernel.accessAllowed ? 'block' : 'none';\n",
              "\n",
              "        async function convertToInteractive(key) {\n",
              "          const element = document.querySelector('#df-17de4ef0-778e-41a1-bd66-31bb414d7a47');\n",
              "          const dataTable =\n",
              "            await google.colab.kernel.invokeFunction('convertToInteractive',\n",
              "                                                     [key], {});\n",
              "          if (!dataTable) return;\n",
              "\n",
              "          const docLinkHtml = 'Like what you see? Visit the ' +\n",
              "            '<a target=\"_blank\" href=https://colab.research.google.com/notebooks/data_table.ipynb>data table notebook</a>'\n",
              "            + ' to learn more about interactive tables.';\n",
              "          element.innerHTML = '';\n",
              "          dataTable['output_type'] = 'display_data';\n",
              "          await google.colab.output.renderOutput(dataTable, element);\n",
              "          const docLink = document.createElement('div');\n",
              "          docLink.innerHTML = docLinkHtml;\n",
              "          element.appendChild(docLink);\n",
              "        }\n",
              "      </script>\n",
              "    </div>\n",
              "  </div>\n",
              "  "
            ]
          },
          "metadata": {},
          "execution_count": 111
        }
      ],
      "source": [
        "results = [[model_name, results[0]['auc'], results[1]] for model_name, results in model_results.items()]\n",
        "results = pd.DataFrame(results, columns = ['model_name', 'auc', 'best_model'])\n",
        "results"
      ]
    },
    {
      "cell_type": "code",
      "execution_count": 112,
      "id": "e3bb4ea6",
      "metadata": {
        "execution": {
          "iopub.execute_input": "2023-01-11T04:32:09.771755Z",
          "iopub.status.busy": "2023-01-11T04:32:09.771050Z",
          "iopub.status.idle": "2023-01-11T04:32:10.021270Z",
          "shell.execute_reply": "2023-01-11T04:32:10.020268Z"
        },
        "id": "e3bb4ea6",
        "outputId": "93122763-0e5f-4782-e02c-9e21124a0942",
        "papermill": {
          "duration": 0.279308,
          "end_time": "2023-01-11T04:32:10.023542",
          "exception": false,
          "start_time": "2023-01-11T04:32:09.744234",
          "status": "completed"
        },
        "tags": [],
        "colab": {
          "base_uri": "https://localhost:8080/",
          "height": 430
        }
      },
      "outputs": [
        {
          "output_type": "execute_result",
          "data": {
            "text/plain": [
              "Text(0.5, 1.0, 'Comparison of Model Performance')"
            ]
          },
          "metadata": {},
          "execution_count": 112
        },
        {
          "output_type": "display_data",
          "data": {
            "text/plain": [
              "<Figure size 720x432 with 1 Axes>"
            ],
            "image/png": "[encoded data removed]"
          },
          "metadata": {
            "needs_background": "light"
          }
        }
      ],
      "source": [
        "plt.figure(figsize=(10, 6))\n",
        "sns.barplot(x = 'model_name', y = 'auc', data = results)\n",
        "plt.xlabel('Model Name', size=16)\n",
        "plt.ylabel('AUC Score', size=16)\n",
        "plt.title('Comparison of Model Performance', size=18)"
      ]
    },
    {
      "cell_type": "code",
      "source": [
        "gb = results['best_model'][2]\n",
        "xg = results['best_model'][1]\n",
        "ad = results['best_model'][3]\n",
        "\n",
        "all_models = (('gb', gb), ('xg', xg))\n",
        "\n",
        "model = StackingClassifier(estimators = all_models, final_estimator = gb)\n",
        "model.fit(xtrain, ytrain)\n",
        "ypred_train = model.predict_proba(xtrain)[:,1]\n",
        "ypred = model.predict_proba(xtest)[:,1]\n",
        "fpr, tpr, thresholds = roc_curve(ytest, ypred, pos_label = 1)\n",
        "score = auc(fpr, tpr)\n",
        "score"
      ],
      "metadata": {
        "colab": {
          "base_uri": "https://localhost:8080/"
        },
        "id": "fL1dcwrvpZqH",
        "outputId": "ac818877-0f11-46d3-817e-48bbcb75f6ac"
      },
      "id": "fL1dcwrvpZqH",
      "execution_count": 113,
      "outputs": [
        {
          "output_type": "execute_result",
          "data": {
            "text/plain": [
              "0.8546583582823011"
            ]
          },
          "metadata": {},
          "execution_count": 113
        }
      ]
    },
    {
      "cell_type": "markdown",
      "source": [
        "# ROC\n",
        "AUC - ROC curve is a performance measurement for the classification problems at various threshold settings. It tells how much the model is capable of distinguishing between classes. Higher the AUC, the better the model is at predicting 0 classes as 0 and 1 classes as 1. By analogy, the Higher the AUC, the better the model is at distinguishing between patients with the disease and no disease. The ROC curve is plotted with TPR against the FPR where TPR is on the y-axis and FPR is on the x-axis."
      ],
      "metadata": {
        "id": "3-ho-6dA2qlC"
      },
      "id": "3-ho-6dA2qlC"
    },
    {
      "cell_type": "code",
      "execution_count": 114,
      "id": "6682af7e",
      "metadata": {
        "execution": {
          "iopub.execute_input": "2023-01-11T04:37:31.202666Z",
          "iopub.status.busy": "2023-01-11T04:37:31.201535Z",
          "iopub.status.idle": "2023-01-11T04:37:31.530082Z",
          "shell.execute_reply": "2023-01-11T04:37:31.529168Z"
        },
        "id": "6682af7e",
        "outputId": "3fc05993-072e-4de0-fc05-d67ac2422b77",
        "papermill": {
          "duration": 0.361143,
          "end_time": "2023-01-11T04:37:31.532263",
          "exception": false,
          "start_time": "2023-01-11T04:37:31.171120",
          "status": "completed"
        },
        "tags": [],
        "colab": {
          "base_uri": "https://localhost:8080/",
          "height": 534
        }
      },
      "outputs": [
        {
          "output_type": "execute_result",
          "data": {
            "text/plain": [
              "<matplotlib.legend.Legend at 0x7f12f49557f0>"
            ]
          },
          "metadata": {},
          "execution_count": 114
        },
        {
          "output_type": "display_data",
          "data": {
            "text/plain": [
              "<Figure size 1008x576 with 1 Axes>"
            ],
            "image/png": "[encoded data removed]"
          },
          "metadata": {
            "needs_background": "light"
          }
        }
      ],
      "source": [
        "ypred = gb.predict_proba(xtest)[:,1]\n",
        "fpr, tpr, thresholds = roc_curve(ytest, ypred, pos_label = 1)\n",
        "score = auc(fpr, tpr)\n",
        "plt.figure(figsize = (14, 8))\n",
        "plt.plot(fpr, tpr, label=\"ROC curve(area = %0.3f)\" % score)\n",
        "plt.plot([0, 1], [0, 1], color=\"red\",label=\"Random Baseline\", linestyle=\"--\")\n",
        "plt.grid(color='gray', linestyle='--', linewidth=0.5)\n",
        "plt.xlabel(\"False Positive Rate\")\n",
        "plt.ylabel(\"True Positive Rate\")\n",
        "plt.title(\"ROC Curve\", size=18)\n",
        "plt.legend(loc=\"lower right\")\n"
      ]
    }
  ],
  "metadata": {
    "kernelspec": {
      "display_name": "Python 3",
      "language": "python",
      "name": "python3"
    },
    "language_info": {
      "codemirror_mode": {
        "name": "ipython",
        "version": 3
      },
      "file_extension": ".py",
      "mimetype": "text/x-python",
      "name": "python",
      "nbconvert_exporter": "python",
      "pygments_lexer": "ipython3",
      "version": "3.7.12"
    },
    "papermill": {
      "default_parameters": {},
      "duration": 2517.407499,
      "end_time": "2023-01-11T04:53:13.645805",
      "environment_variables": {},
      "exception": null,
      "input_path": "__notebook__.ipynb",
      "output_path": "__notebook__.ipynb",
      "parameters": {},
      "start_time": "2023-01-11T04:11:16.238306",
      "version": "2.3.4"
    },
    "colab": {
      "provenance": []
    }
  },
  "nbformat": 4,
  "nbformat_minor": 5
}