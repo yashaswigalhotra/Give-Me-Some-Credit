{
  "nbformat": 4,
  "nbformat_minor": 0,
  "metadata": {
    "colab": {
      "provenance": []
    },
    "kernelspec": {
      "name": "python3",
      "display_name": "Python 3"
    },
    "language_info": {
      "name": "python"
    }
  },
  "cells": [
    {
      "cell_type": "markdown",
      "source": [
        "# Step 1 : Importing important libraries"
      ],
      "metadata": {
        "id": "6MgMexPlOysT"
      }
    },
    {
      "cell_type": "code",
      "execution_count": 31,
      "metadata": {
        "id": "vw0nZZ4CLV0P"
      },
      "outputs": [],
      "source": [
        "import pandas as pd \n",
        "import numpy as np \n",
        "import matplotlib.gridspec as gridspec\n",
        "import seaborn as sns \n",
        "import matplotlib.pyplot as plt \n",
        "import warnings"
      ]
    },
    {
      "cell_type": "markdown",
      "source": [
        "#Step 2: Load the data"
      ],
      "metadata": {
        "id": "5HkVYFCLO01o"
      }
    },
    {
      "cell_type": "code",
      "source": [
        "train = pd.read_csv('cs-training.csv')\n",
        "test = pd.read_csv('cs-test.csv')\n",
        "train.head(3)"
      ],
      "metadata": {
        "colab": {
          "base_uri": "https://localhost:8080/",
          "height": 225
        },
        "id": "244G4rWRLviF",
        "outputId": "5691a359-4a5b-48ab-c778-21a2e3ca3f66"
      },
      "execution_count": 32,
      "outputs": [
        {
          "output_type": "execute_result",
          "data": {
            "text/plain": [
              "   Unnamed: 0  SeriousDlqin2yrs  RevolvingUtilizationOfUnsecuredLines  age  \\\n",
              "0           1                 1                              0.766127   45   \n",
              "1           2                 0                              0.957151   40   \n",
              "2           3                 0                              0.658180   38   \n",
              "\n",
              "   NumberOfTime30-59DaysPastDueNotWorse  DebtRatio  MonthlyIncome  \\\n",
              "0                                     2   0.802982         9120.0   \n",
              "1                                     0   0.121876         2600.0   \n",
              "2                                     1   0.085113         3042.0   \n",
              "\n",
              "   NumberOfOpenCreditLinesAndLoans  NumberOfTimes90DaysLate  \\\n",
              "0                               13                        0   \n",
              "1                                4                        0   \n",
              "2                                2                        1   \n",
              "\n",
              "   NumberRealEstateLoansOrLines  NumberOfTime60-89DaysPastDueNotWorse  \\\n",
              "0                             6                                     0   \n",
              "1                             0                                     0   \n",
              "2                             0                                     0   \n",
              "\n",
              "   NumberOfDependents  \n",
              "0                 2.0  \n",
              "1                 1.0  \n",
              "2                 0.0  "
            ],
            "text/html": [
              "\n",
              "  <div id=\"df-e1c0d727-43df-4584-b727-2ea83dcea594\">\n",
              "    <div class=\"colab-df-container\">\n",
              "      <div>\n",
              "<style scoped>\n",
              "    .dataframe tbody tr th:only-of-type {\n",
              "        vertical-align: middle;\n",
              "    }\n",
              "\n",
              "    .dataframe tbody tr th {\n",
              "        vertical-align: top;\n",
              "    }\n",
              "\n",
              "    .dataframe thead th {\n",
              "        text-align: right;\n",
              "    }\n",
              "</style>\n",
              "<table border=\"1\" class=\"dataframe\">\n",
              "  <thead>\n",
              "    <tr style=\"text-align: right;\">\n",
              "      <th></th>\n",
              "      <th>Unnamed: 0</th>\n",
              "      <th>SeriousDlqin2yrs</th>\n",
              "      <th>RevolvingUtilizationOfUnsecuredLines</th>\n",
              "      <th>age</th>\n",
              "      <th>NumberOfTime30-59DaysPastDueNotWorse</th>\n",
              "      <th>DebtRatio</th>\n",
              "      <th>MonthlyIncome</th>\n",
              "      <th>NumberOfOpenCreditLinesAndLoans</th>\n",
              "      <th>NumberOfTimes90DaysLate</th>\n",
              "      <th>NumberRealEstateLoansOrLines</th>\n",
              "      <th>NumberOfTime60-89DaysPastDueNotWorse</th>\n",
              "      <th>NumberOfDependents</th>\n",
              "    </tr>\n",
              "  </thead>\n",
              "  <tbody>\n",
              "    <tr>\n",
              "      <th>0</th>\n",
              "      <td>1</td>\n",
              "      <td>1</td>\n",
              "      <td>0.766127</td>\n",
              "      <td>45</td>\n",
              "      <td>2</td>\n",
              "      <td>0.802982</td>\n",
              "      <td>9120.0</td>\n",
              "      <td>13</td>\n",
              "      <td>0</td>\n",
              "      <td>6</td>\n",
              "      <td>0</td>\n",
              "      <td>2.0</td>\n",
              "    </tr>\n",
              "    <tr>\n",
              "      <th>1</th>\n",
              "      <td>2</td>\n",
              "      <td>0</td>\n",
              "      <td>0.957151</td>\n",
              "      <td>40</td>\n",
              "      <td>0</td>\n",
              "      <td>0.121876</td>\n",
              "      <td>2600.0</td>\n",
              "      <td>4</td>\n",
              "      <td>0</td>\n",
              "      <td>0</td>\n",
              "      <td>0</td>\n",
              "      <td>1.0</td>\n",
              "    </tr>\n",
              "    <tr>\n",
              "      <th>2</th>\n",
              "      <td>3</td>\n",
              "      <td>0</td>\n",
              "      <td>0.658180</td>\n",
              "      <td>38</td>\n",
              "      <td>1</td>\n",
              "      <td>0.085113</td>\n",
              "      <td>3042.0</td>\n",
              "      <td>2</td>\n",
              "      <td>1</td>\n",
              "      <td>0</td>\n",
              "      <td>0</td>\n",
              "      <td>0.0</td>\n",
              "    </tr>\n",
              "  </tbody>\n",
              "</table>\n",
              "</div>\n",
              "      <button class=\"colab-df-convert\" onclick=\"convertToInteractive('df-e1c0d727-43df-4584-b727-2ea83dcea594')\"\n",
              "              title=\"Convert this dataframe to an interactive table.\"\n",
              "              style=\"display:none;\">\n",
              "        \n",
              "  <svg xmlns=\"http://www.w3.org/2000/svg\" height=\"24px\"viewBox=\"0 0 24 24\"\n",
              "       width=\"24px\">\n",
              "    <path d=\"M0 0h24v24H0V0z\" fill=\"none\"/>\n",
              "    <path d=\"M18.56 5.44l.94 2.06.94-2.06 2.06-.94-2.06-.94-.94-2.06-.94 2.06-2.06.94zm-11 1L8.5 8.5l.94-2.06 2.06-.94-2.06-.94L8.5 2.5l-.94 2.06-2.06.94zm10 10l.94 2.06.94-2.06 2.06-.94-2.06-.94-.94-2.06-.94 2.06-2.06.94z\"/><path d=\"M17.41 7.96l-1.37-1.37c-.4-.4-.92-.59-1.43-.59-.52 0-1.04.2-1.43.59L10.3 9.45l-7.72 7.72c-.78.78-.78 2.05 0 2.83L4 21.41c.39.39.9.59 1.41.59.51 0 1.02-.2 1.41-.59l7.78-7.78 2.81-2.81c.8-.78.8-2.07 0-2.86zM5.41 20L4 18.59l7.72-7.72 1.47 1.35L5.41 20z\"/>\n",
              "  </svg>\n",
              "      </button>\n",
              "      \n",
              "  <style>\n",
              "    .colab-df-container {\n",
              "      display:flex;\n",
              "      flex-wrap:wrap;\n",
              "      gap: 12px;\n",
              "    }\n",
              "\n",
              "    .colab-df-convert {\n",
              "      background-color: #E8F0FE;\n",
              "      border: none;\n",
              "      border-radius: 50%;\n",
              "      cursor: pointer;\n",
              "      display: none;\n",
              "      fill: #1967D2;\n",
              "      height: 32px;\n",
              "      padding: 0 0 0 0;\n",
              "      width: 32px;\n",
              "    }\n",
              "\n",
              "    .colab-df-convert:hover {\n",
              "      background-color: #E2EBFA;\n",
              "      box-shadow: 0px 1px 2px rgba(60, 64, 67, 0.3), 0px 1px 3px 1px rgba(60, 64, 67, 0.15);\n",
              "      fill: #174EA6;\n",
              "    }\n",
              "\n",
              "    [theme=dark] .colab-df-convert {\n",
              "      background-color: #3B4455;\n",
              "      fill: #D2E3FC;\n",
              "    }\n",
              "\n",
              "    [theme=dark] .colab-df-convert:hover {\n",
              "      background-color: #434B5C;\n",
              "      box-shadow: 0px 1px 3px 1px rgba(0, 0, 0, 0.15);\n",
              "      filter: drop-shadow(0px 1px 2px rgba(0, 0, 0, 0.3));\n",
              "      fill: #FFFFFF;\n",
              "    }\n",
              "  </style>\n",
              "\n",
              "      <script>\n",
              "        const buttonEl =\n",
              "          document.querySelector('#df-e1c0d727-43df-4584-b727-2ea83dcea594 button.colab-df-convert');\n",
              "        buttonEl.style.display =\n",
              "          google.colab.kernel.accessAllowed ? 'block' : 'none';\n",
              "\n",
              "        async function convertToInteractive(key) {\n",
              "          const element = document.querySelector('#df-e1c0d727-43df-4584-b727-2ea83dcea594');\n",
              "          const dataTable =\n",
              "            await google.colab.kernel.invokeFunction('convertToInteractive',\n",
              "                                                     [key], {});\n",
              "          if (!dataTable) return;\n",
              "\n",
              "          const docLinkHtml = 'Like what you see? Visit the ' +\n",
              "            '<a target=\"_blank\" href=https://colab.research.google.com/notebooks/data_table.ipynb>data table notebook</a>'\n",
              "            + ' to learn more about interactive tables.';\n",
              "          element.innerHTML = '';\n",
              "          dataTable['output_type'] = 'display_data';\n",
              "          await google.colab.output.renderOutput(dataTable, element);\n",
              "          const docLink = document.createElement('div');\n",
              "          docLink.innerHTML = docLinkHtml;\n",
              "          element.appendChild(docLink);\n",
              "        }\n",
              "      </script>\n",
              "    </div>\n",
              "  </div>\n",
              "  "
            ]
          },
          "metadata": {},
          "execution_count": 32
        }
      ]
    },
    {
      "cell_type": "markdown",
      "source": [
        "# Step 3 : Understanding the data \n",
        "### Seeing the distribution of dataset in order to understand the data.\n"
      ],
      "metadata": {
        "id": "a1oxo4WdP23g"
      }
    },
    {
      "cell_type": "code",
      "source": [
        "variables = pd.DataFrame(columns=['Variable','Number of unique values','Number of nulls', 'Values'])\n",
        "\n",
        "for i, var in enumerate(train.columns):\n",
        "    variables.loc[i] = [var, train[var].nunique(), train[var].isnull().sum(), train[var].unique().tolist()]\n",
        "v_dict = pd.read_excel('Data Dictionary.xls', index_col=0)\n",
        "variables.set_index('Variable').join(v_dict)"
      ],
      "metadata": {
        "colab": {
          "base_uri": "https://localhost:8080/",
          "height": 935
        },
        "id": "mvdjAmZUPuvh",
        "outputId": "c34e741e-58d2-4d64-9447-02ad89fc96ed"
      },
      "execution_count": 37,
      "outputs": [
        {
          "output_type": "execute_result",
          "data": {
            "text/plain": [
              "                                     Number of unique values Number of nulls  \\\n",
              "Variable                                                                       \n",
              "Unnamed: 0                                            150000               0   \n",
              "SeriousDlqin2yrs                                           2               0   \n",
              "RevolvingUtilizationOfUnsecuredLines                  125728               0   \n",
              "age                                                       86               0   \n",
              "NumberOfTime30-59DaysPastDueNotWorse                      16               0   \n",
              "DebtRatio                                             114194               0   \n",
              "MonthlyIncome                                          13594           29731   \n",
              "NumberOfOpenCreditLinesAndLoans                           58               0   \n",
              "NumberOfTimes90DaysLate                                   19               0   \n",
              "NumberRealEstateLoansOrLines                              28               0   \n",
              "NumberOfTime60-89DaysPastDueNotWorse                      13               0   \n",
              "NumberOfDependents                                        13            3924   \n",
              "\n",
              "                                                                                 Values  \\\n",
              "Variable                                                                                  \n",
              "Unnamed: 0                            [1, 2, 3, 4, 5, 6, 7, 8, 9, 10, 11, 12, 13, 14...   \n",
              "SeriousDlqin2yrs                                                                 [1, 0]   \n",
              "RevolvingUtilizationOfUnsecuredLines  [0.766126609, 0.957151019, 0.65818014, 0.23380...   \n",
              "age                                   [45, 40, 38, 30, 49, 74, 57, 39, 27, 51, 46, 7...   \n",
              "NumberOfTime30-59DaysPastDueNotWorse  [2, 0, 1, 3, 4, 5, 7, 10, 6, 98, 12, 8, 9, 96,...   \n",
              "DebtRatio                             [0.802982129, 0.121876201, 0.085113375, 0.0360...   \n",
              "MonthlyIncome                         [9120.0, 2600.0, 3042.0, 3300.0, 63588.0, 3500...   \n",
              "NumberOfOpenCreditLinesAndLoans       [13, 4, 2, 5, 7, 3, 8, 9, 6, 10, 14, 22, 17, 1...   \n",
              "NumberOfTimes90DaysLate               [0, 1, 3, 2, 5, 4, 98, 10, 9, 6, 7, 8, 15, 96,...   \n",
              "NumberRealEstateLoansOrLines          [6, 0, 1, 3, 4, 2, 5, 8, 7, 9, 17, 15, 10, 12,...   \n",
              "NumberOfTime60-89DaysPastDueNotWorse         [0, 1, 2, 5, 3, 98, 4, 6, 7, 8, 96, 11, 9]   \n",
              "NumberOfDependents                    [2.0, 1.0, 0.0, nan, 3.0, 4.0, 5.0, 6.0, 8.0, ...   \n",
              "\n",
              "                                                                             Unnamed: 1  \\\n",
              "Variable                                                                                  \n",
              "Unnamed: 0                                                                          NaN   \n",
              "SeriousDlqin2yrs                      Person experienced 90 days past due delinquenc...   \n",
              "RevolvingUtilizationOfUnsecuredLines  Total balance on credit cards and personal lin...   \n",
              "age                                                            Age of borrower in years   \n",
              "NumberOfTime30-59DaysPastDueNotWorse  Number of times borrower has been 30-59 days p...   \n",
              "DebtRatio                             Monthly debt payments, alimony,living costs di...   \n",
              "MonthlyIncome                                                            Monthly income   \n",
              "NumberOfOpenCreditLinesAndLoans       Number of Open loans (installment like car loa...   \n",
              "NumberOfTimes90DaysLate               Number of times borrower has been 90 days or m...   \n",
              "NumberRealEstateLoansOrLines          Number of mortgage and real estate loans inclu...   \n",
              "NumberOfTime60-89DaysPastDueNotWorse  Number of times borrower has been 60-89 days p...   \n",
              "NumberOfDependents                    Number of dependents in family excluding thems...   \n",
              "\n",
              "                                      Unnamed: 2  \n",
              "Variable                                          \n",
              "Unnamed: 0                                   NaN  \n",
              "SeriousDlqin2yrs                             Y/N  \n",
              "RevolvingUtilizationOfUnsecuredLines  percentage  \n",
              "age                                      integer  \n",
              "NumberOfTime30-59DaysPastDueNotWorse     integer  \n",
              "DebtRatio                             percentage  \n",
              "MonthlyIncome                               real  \n",
              "NumberOfOpenCreditLinesAndLoans          integer  \n",
              "NumberOfTimes90DaysLate                  integer  \n",
              "NumberRealEstateLoansOrLines             integer  \n",
              "NumberOfTime60-89DaysPastDueNotWorse     integer  \n",
              "NumberOfDependents                       integer  "
            ],
            "text/html": [
              "\n",
              "  <div id=\"df-01eab9d0-9581-46b1-a95c-cf340fbf4ae3\">\n",
              "    <div class=\"colab-df-container\">\n",
              "      <div>\n",
              "<style scoped>\n",
              "    .dataframe tbody tr th:only-of-type {\n",
              "        vertical-align: middle;\n",
              "    }\n",
              "\n",
              "    .dataframe tbody tr th {\n",
              "        vertical-align: top;\n",
              "    }\n",
              "\n",
              "    .dataframe thead th {\n",
              "        text-align: right;\n",
              "    }\n",
              "</style>\n",
              "<table border=\"1\" class=\"dataframe\">\n",
              "  <thead>\n",
              "    <tr style=\"text-align: right;\">\n",
              "      <th></th>\n",
              "      <th>Number of unique values</th>\n",
              "      <th>Number of nulls</th>\n",
              "      <th>Values</th>\n",
              "      <th>Unnamed: 1</th>\n",
              "      <th>Unnamed: 2</th>\n",
              "    </tr>\n",
              "    <tr>\n",
              "      <th>Variable</th>\n",
              "      <th></th>\n",
              "      <th></th>\n",
              "      <th></th>\n",
              "      <th></th>\n",
              "      <th></th>\n",
              "    </tr>\n",
              "  </thead>\n",
              "  <tbody>\n",
              "    <tr>\n",
              "      <th>Unnamed: 0</th>\n",
              "      <td>150000</td>\n",
              "      <td>0</td>\n",
              "      <td>[1, 2, 3, 4, 5, 6, 7, 8, 9, 10, 11, 12, 13, 14...</td>\n",
              "      <td>NaN</td>\n",
              "      <td>NaN</td>\n",
              "    </tr>\n",
              "    <tr>\n",
              "      <th>SeriousDlqin2yrs</th>\n",
              "      <td>2</td>\n",
              "      <td>0</td>\n",
              "      <td>[1, 0]</td>\n",
              "      <td>Person experienced 90 days past due delinquenc...</td>\n",
              "      <td>Y/N</td>\n",
              "    </tr>\n",
              "    <tr>\n",
              "      <th>RevolvingUtilizationOfUnsecuredLines</th>\n",
              "      <td>125728</td>\n",
              "      <td>0</td>\n",
              "      <td>[0.766126609, 0.957151019, 0.65818014, 0.23380...</td>\n",
              "      <td>Total balance on credit cards and personal lin...</td>\n",
              "      <td>percentage</td>\n",
              "    </tr>\n",
              "    <tr>\n",
              "      <th>age</th>\n",
              "      <td>86</td>\n",
              "      <td>0</td>\n",
              "      <td>[45, 40, 38, 30, 49, 74, 57, 39, 27, 51, 46, 7...</td>\n",
              "      <td>Age of borrower in years</td>\n",
              "      <td>integer</td>\n",
              "    </tr>\n",
              "    <tr>\n",
              "      <th>NumberOfTime30-59DaysPastDueNotWorse</th>\n",
              "      <td>16</td>\n",
              "      <td>0</td>\n",
              "      <td>[2, 0, 1, 3, 4, 5, 7, 10, 6, 98, 12, 8, 9, 96,...</td>\n",
              "      <td>Number of times borrower has been 30-59 days p...</td>\n",
              "      <td>integer</td>\n",
              "    </tr>\n",
              "    <tr>\n",
              "      <th>DebtRatio</th>\n",
              "      <td>114194</td>\n",
              "      <td>0</td>\n",
              "      <td>[0.802982129, 0.121876201, 0.085113375, 0.0360...</td>\n",
              "      <td>Monthly debt payments, alimony,living costs di...</td>\n",
              "      <td>percentage</td>\n",
              "    </tr>\n",
              "    <tr>\n",
              "      <th>MonthlyIncome</th>\n",
              "      <td>13594</td>\n",
              "      <td>29731</td>\n",
              "      <td>[9120.0, 2600.0, 3042.0, 3300.0, 63588.0, 3500...</td>\n",
              "      <td>Monthly income</td>\n",
              "      <td>real</td>\n",
              "    </tr>\n",
              "    <tr>\n",
              "      <th>NumberOfOpenCreditLinesAndLoans</th>\n",
              "      <td>58</td>\n",
              "      <td>0</td>\n",
              "      <td>[13, 4, 2, 5, 7, 3, 8, 9, 6, 10, 14, 22, 17, 1...</td>\n",
              "      <td>Number of Open loans (installment like car loa...</td>\n",
              "      <td>integer</td>\n",
              "    </tr>\n",
              "    <tr>\n",
              "      <th>NumberOfTimes90DaysLate</th>\n",
              "      <td>19</td>\n",
              "      <td>0</td>\n",
              "      <td>[0, 1, 3, 2, 5, 4, 98, 10, 9, 6, 7, 8, 15, 96,...</td>\n",
              "      <td>Number of times borrower has been 90 days or m...</td>\n",
              "      <td>integer</td>\n",
              "    </tr>\n",
              "    <tr>\n",
              "      <th>NumberRealEstateLoansOrLines</th>\n",
              "      <td>28</td>\n",
              "      <td>0</td>\n",
              "      <td>[6, 0, 1, 3, 4, 2, 5, 8, 7, 9, 17, 15, 10, 12,...</td>\n",
              "      <td>Number of mortgage and real estate loans inclu...</td>\n",
              "      <td>integer</td>\n",
              "    </tr>\n",
              "    <tr>\n",
              "      <th>NumberOfTime60-89DaysPastDueNotWorse</th>\n",
              "      <td>13</td>\n",
              "      <td>0</td>\n",
              "      <td>[0, 1, 2, 5, 3, 98, 4, 6, 7, 8, 96, 11, 9]</td>\n",
              "      <td>Number of times borrower has been 60-89 days p...</td>\n",
              "      <td>integer</td>\n",
              "    </tr>\n",
              "    <tr>\n",
              "      <th>NumberOfDependents</th>\n",
              "      <td>13</td>\n",
              "      <td>3924</td>\n",
              "      <td>[2.0, 1.0, 0.0, nan, 3.0, 4.0, 5.0, 6.0, 8.0, ...</td>\n",
              "      <td>Number of dependents in family excluding thems...</td>\n",
              "      <td>integer</td>\n",
              "    </tr>\n",
              "  </tbody>\n",
              "</table>\n",
              "</div>\n",
              "      <button class=\"colab-df-convert\" onclick=\"convertToInteractive('df-01eab9d0-9581-46b1-a95c-cf340fbf4ae3')\"\n",
              "              title=\"Convert this dataframe to an interactive table.\"\n",
              "              style=\"display:none;\">\n",
              "        \n",
              "  <svg xmlns=\"http://www.w3.org/2000/svg\" height=\"24px\"viewBox=\"0 0 24 24\"\n",
              "       width=\"24px\">\n",
              "    <path d=\"M0 0h24v24H0V0z\" fill=\"none\"/>\n",
              "    <path d=\"M18.56 5.44l.94 2.06.94-2.06 2.06-.94-2.06-.94-.94-2.06-.94 2.06-2.06.94zm-11 1L8.5 8.5l.94-2.06 2.06-.94-2.06-.94L8.5 2.5l-.94 2.06-2.06.94zm10 10l.94 2.06.94-2.06 2.06-.94-2.06-.94-.94-2.06-.94 2.06-2.06.94z\"/><path d=\"M17.41 7.96l-1.37-1.37c-.4-.4-.92-.59-1.43-.59-.52 0-1.04.2-1.43.59L10.3 9.45l-7.72 7.72c-.78.78-.78 2.05 0 2.83L4 21.41c.39.39.9.59 1.41.59.51 0 1.02-.2 1.41-.59l7.78-7.78 2.81-2.81c.8-.78.8-2.07 0-2.86zM5.41 20L4 18.59l7.72-7.72 1.47 1.35L5.41 20z\"/>\n",
              "  </svg>\n",
              "      </button>\n",
              "      \n",
              "  <style>\n",
              "    .colab-df-container {\n",
              "      display:flex;\n",
              "      flex-wrap:wrap;\n",
              "      gap: 12px;\n",
              "    }\n",
              "\n",
              "    .colab-df-convert {\n",
              "      background-color: #E8F0FE;\n",
              "      border: none;\n",
              "      border-radius: 50%;\n",
              "      cursor: pointer;\n",
              "      display: none;\n",
              "      fill: #1967D2;\n",
              "      height: 32px;\n",
              "      padding: 0 0 0 0;\n",
              "      width: 32px;\n",
              "    }\n",
              "\n",
              "    .colab-df-convert:hover {\n",
              "      background-color: #E2EBFA;\n",
              "      box-shadow: 0px 1px 2px rgba(60, 64, 67, 0.3), 0px 1px 3px 1px rgba(60, 64, 67, 0.15);\n",
              "      fill: #174EA6;\n",
              "    }\n",
              "\n",
              "    [theme=dark] .colab-df-convert {\n",
              "      background-color: #3B4455;\n",
              "      fill: #D2E3FC;\n",
              "    }\n",
              "\n",
              "    [theme=dark] .colab-df-convert:hover {\n",
              "      background-color: #434B5C;\n",
              "      box-shadow: 0px 1px 3px 1px rgba(0, 0, 0, 0.15);\n",
              "      filter: drop-shadow(0px 1px 2px rgba(0, 0, 0, 0.3));\n",
              "      fill: #FFFFFF;\n",
              "    }\n",
              "  </style>\n",
              "\n",
              "      <script>\n",
              "        const buttonEl =\n",
              "          document.querySelector('#df-01eab9d0-9581-46b1-a95c-cf340fbf4ae3 button.colab-df-convert');\n",
              "        buttonEl.style.display =\n",
              "          google.colab.kernel.accessAllowed ? 'block' : 'none';\n",
              "\n",
              "        async function convertToInteractive(key) {\n",
              "          const element = document.querySelector('#df-01eab9d0-9581-46b1-a95c-cf340fbf4ae3');\n",
              "          const dataTable =\n",
              "            await google.colab.kernel.invokeFunction('convertToInteractive',\n",
              "                                                     [key], {});\n",
              "          if (!dataTable) return;\n",
              "\n",
              "          const docLinkHtml = 'Like what you see? Visit the ' +\n",
              "            '<a target=\"_blank\" href=https://colab.research.google.com/notebooks/data_table.ipynb>data table notebook</a>'\n",
              "            + ' to learn more about interactive tables.';\n",
              "          element.innerHTML = '';\n",
              "          dataTable['output_type'] = 'display_data';\n",
              "          await google.colab.output.renderOutput(dataTable, element);\n",
              "          const docLink = document.createElement('div');\n",
              "          docLink.innerHTML = docLinkHtml;\n",
              "          element.appendChild(docLink);\n",
              "        }\n",
              "      </script>\n",
              "    </div>\n",
              "  </div>\n",
              "  "
            ]
          },
          "metadata": {},
          "execution_count": 37
        }
      ]
    },
    {
      "cell_type": "markdown",
      "source": [
        "### Checking the number of null columns in each variable.\n",
        "\n"
      ],
      "metadata": {
        "id": "jL28npiLP60G"
      }
    },
    {
      "cell_type": "code",
      "source": [
        "train.info()"
      ],
      "metadata": {
        "id": "6ukbuinoLnKg",
        "colab": {
          "base_uri": "https://localhost:8080/"
        },
        "outputId": "649b2a5b-d529-4eba-a8ec-8ccfd1f45894"
      },
      "execution_count": 4,
      "outputs": [
        {
          "output_type": "stream",
          "name": "stdout",
          "text": [
            "<class 'pandas.core.frame.DataFrame'>\n",
            "RangeIndex: 150000 entries, 0 to 149999\n",
            "Data columns (total 12 columns):\n",
            " #   Column                                Non-Null Count   Dtype  \n",
            "---  ------                                --------------   -----  \n",
            " 0   Unnamed: 0                            150000 non-null  int64  \n",
            " 1   SeriousDlqin2yrs                      150000 non-null  int64  \n",
            " 2   RevolvingUtilizationOfUnsecuredLines  150000 non-null  float64\n",
            " 3   age                                   150000 non-null  int64  \n",
            " 4   NumberOfTime30-59DaysPastDueNotWorse  150000 non-null  int64  \n",
            " 5   DebtRatio                             150000 non-null  float64\n",
            " 6   MonthlyIncome                         120269 non-null  float64\n",
            " 7   NumberOfOpenCreditLinesAndLoans       150000 non-null  int64  \n",
            " 8   NumberOfTimes90DaysLate               150000 non-null  int64  \n",
            " 9   NumberRealEstateLoansOrLines          150000 non-null  int64  \n",
            " 10  NumberOfTime60-89DaysPastDueNotWorse  150000 non-null  int64  \n",
            " 11  NumberOfDependents                    146076 non-null  float64\n",
            "dtypes: float64(4), int64(8)\n",
            "memory usage: 13.7 MB\n"
          ]
        }
      ]
    },
    {
      "cell_type": "markdown",
      "source": [
        "### Representing number of null column in terms of percentage for each column to check if percentage of null cells is more than 10% or not. If yes will try to remove that column"
      ],
      "metadata": {
        "id": "5IaQ52U7P7cc"
      }
    },
    {
      "cell_type": "code",
      "source": [
        "for i in range(train.shape[1]):\n",
        "    n_miss = train.iloc[:,i].isnull().sum()\n",
        "    perc = n_miss / train.shape[0] * 100\n",
        "    print('%d, Missing: %d (%.1f%%)' % (i, n_miss, perc))"
      ],
      "metadata": {
        "colab": {
          "base_uri": "https://localhost:8080/"
        },
        "id": "edQme1FuI5l3",
        "outputId": "56c401d7-054f-409c-902e-d43042d72996"
      },
      "execution_count": 39,
      "outputs": [
        {
          "output_type": "stream",
          "name": "stdout",
          "text": [
            "0, Missing: 0 (0.0%)\n",
            "1, Missing: 0 (0.0%)\n",
            "2, Missing: 0 (0.0%)\n",
            "3, Missing: 0 (0.0%)\n",
            "4, Missing: 0 (0.0%)\n",
            "5, Missing: 0 (0.0%)\n",
            "6, Missing: 29731 (19.8%)\n",
            "7, Missing: 0 (0.0%)\n",
            "8, Missing: 0 (0.0%)\n",
            "9, Missing: 0 (0.0%)\n",
            "10, Missing: 0 (0.0%)\n",
            "11, Missing: 3924 (2.6%)\n"
          ]
        }
      ]
    },
    {
      "cell_type": "markdown",
      "source": [
        "# Step 4 : Visualization"
      ],
      "metadata": {
        "id": "zSUqh0nEaYG9"
      }
    },
    {
      "cell_type": "markdown",
      "source": [
        "### Visualization of numbercal data of columns using box plot. These charts display ranges within variables measured."
      ],
      "metadata": {
        "id": "M24WC0JnP8ed"
      }
    },
    {
      "cell_type": "code",
      "source": [
        "plt.figure(figsize=(10,2))\n",
        "sns.boxplot(data=train, x='RevolvingUtilizationOfUnsecuredLines')\n",
        "plt.title(\"Distribution of RevolvingUtilizationOfUnsecuredLines\");"
      ],
      "metadata": {
        "colab": {
          "base_uri": "https://localhost:8080/",
          "height": 187
        },
        "id": "PsLo2E4pJBoY",
        "outputId": "3d2f12d5-e5ff-44e0-ed33-036d161c3b64"
      },
      "execution_count": 40,
      "outputs": [
        {
          "output_type": "display_data",
          "data": {
            "text/plain": [
              "<Figure size 720x144 with 1 Axes>"
            ],
            "image/png": "[encoded data removed]"
          },
          "metadata": {
            "needs_background": "light"
          }
        }
      ]
    },
    {
      "cell_type": "code",
      "source": [
        "plt.figure(figsize=(10,2))\n",
        "sns.boxplot(data=train, x='MonthlyIncome')\n",
        "plt.title(\"Distribution of MonthlyIncome\");"
      ],
      "metadata": {
        "colab": {
          "base_uri": "https://localhost:8080/",
          "height": 187
        },
        "id": "cxnNo8AUJBso",
        "outputId": "ce9e6d47-8993-4189-959c-996ba7049140"
      },
      "execution_count": 41,
      "outputs": [
        {
          "output_type": "display_data",
          "data": {
            "text/plain": [
              "<Figure size 720x144 with 1 Axes>"
            ],
            "image/png": "[encoded data removed]"
          },
          "metadata": {
            "needs_background": "light"
          }
        }
      ]
    },
    {
      "cell_type": "markdown",
      "source": [
        "# Step 5 : Removing skewness"
      ],
      "metadata": {
        "id": "_uzhrXLKQLth"
      }
    },
    {
      "cell_type": "markdown",
      "source": [
        "Skewness is a measure of symmetry, or more precisely, the lack of symmetry.\n",
        "· If the skewness is between -0.5 and 0.5, the data are fairly symmetrical\n",
        "· If the skewness is between -1 and — 0.5 or between 0.5 and 1, the data are moderately skewed\n",
        "· If the skewness is less than -1 or greater than 1, the data are highly skewed"
      ],
      "metadata": {
        "id": "N525R_sAbMYY"
      }
    },
    {
      "cell_type": "code",
      "source": [
        "skew =train.skew().sort_values(ascending =False )\n",
        "skew_df= pd.DataFrame({'skew':skew})\n",
        "skew_df.head(10)"
      ],
      "metadata": {
        "colab": {
          "base_uri": "https://localhost:8080/",
          "height": 363
        },
        "id": "zfNcgLABJeOa",
        "outputId": "b8838575-b447-4af4-fa86-4777310f2a8b"
      },
      "execution_count": 42,
      "outputs": [
        {
          "output_type": "execute_result",
          "data": {
            "text/plain": [
              "                                            skew\n",
              "MonthlyIncome                         114.040318\n",
              "RevolvingUtilizationOfUnsecuredLines   97.631574\n",
              "DebtRatio                              95.157793\n",
              "NumberOfTime60-89DaysPastDueNotWorse   23.331743\n",
              "NumberOfTimes90DaysLate                23.087345\n",
              "NumberOfTime30-59DaysPastDueNotWorse   22.597108\n",
              "NumberRealEstateLoansOrLines            3.482484\n",
              "SeriousDlqin2yrs                        3.468857\n",
              "NumberOfDependents                      1.588242\n",
              "NumberOfOpenCreditLinesAndLoans         1.215314"
            ],
            "text/html": [
              "\n",
              "  <div id=\"df-4ec215eb-ed0b-4cc2-a846-0fed7c30956f\">\n",
              "    <div class=\"colab-df-container\">\n",
              "      <div>\n",
              "<style scoped>\n",
              "    .dataframe tbody tr th:only-of-type {\n",
              "        vertical-align: middle;\n",
              "    }\n",
              "\n",
              "    .dataframe tbody tr th {\n",
              "        vertical-align: top;\n",
              "    }\n",
              "\n",
              "    .dataframe thead th {\n",
              "        text-align: right;\n",
              "    }\n",
              "</style>\n",
              "<table border=\"1\" class=\"dataframe\">\n",
              "  <thead>\n",
              "    <tr style=\"text-align: right;\">\n",
              "      <th></th>\n",
              "      <th>skew</th>\n",
              "    </tr>\n",
              "  </thead>\n",
              "  <tbody>\n",
              "    <tr>\n",
              "      <th>MonthlyIncome</th>\n",
              "      <td>114.040318</td>\n",
              "    </tr>\n",
              "    <tr>\n",
              "      <th>RevolvingUtilizationOfUnsecuredLines</th>\n",
              "      <td>97.631574</td>\n",
              "    </tr>\n",
              "    <tr>\n",
              "      <th>DebtRatio</th>\n",
              "      <td>95.157793</td>\n",
              "    </tr>\n",
              "    <tr>\n",
              "      <th>NumberOfTime60-89DaysPastDueNotWorse</th>\n",
              "      <td>23.331743</td>\n",
              "    </tr>\n",
              "    <tr>\n",
              "      <th>NumberOfTimes90DaysLate</th>\n",
              "      <td>23.087345</td>\n",
              "    </tr>\n",
              "    <tr>\n",
              "      <th>NumberOfTime30-59DaysPastDueNotWorse</th>\n",
              "      <td>22.597108</td>\n",
              "    </tr>\n",
              "    <tr>\n",
              "      <th>NumberRealEstateLoansOrLines</th>\n",
              "      <td>3.482484</td>\n",
              "    </tr>\n",
              "    <tr>\n",
              "      <th>SeriousDlqin2yrs</th>\n",
              "      <td>3.468857</td>\n",
              "    </tr>\n",
              "    <tr>\n",
              "      <th>NumberOfDependents</th>\n",
              "      <td>1.588242</td>\n",
              "    </tr>\n",
              "    <tr>\n",
              "      <th>NumberOfOpenCreditLinesAndLoans</th>\n",
              "      <td>1.215314</td>\n",
              "    </tr>\n",
              "  </tbody>\n",
              "</table>\n",
              "</div>\n",
              "      <button class=\"colab-df-convert\" onclick=\"convertToInteractive('df-4ec215eb-ed0b-4cc2-a846-0fed7c30956f')\"\n",
              "              title=\"Convert this dataframe to an interactive table.\"\n",
              "              style=\"display:none;\">\n",
              "        \n",
              "  <svg xmlns=\"http://www.w3.org/2000/svg\" height=\"24px\"viewBox=\"0 0 24 24\"\n",
              "       width=\"24px\">\n",
              "    <path d=\"M0 0h24v24H0V0z\" fill=\"none\"/>\n",
              "    <path d=\"M18.56 5.44l.94 2.06.94-2.06 2.06-.94-2.06-.94-.94-2.06-.94 2.06-2.06.94zm-11 1L8.5 8.5l.94-2.06 2.06-.94-2.06-.94L8.5 2.5l-.94 2.06-2.06.94zm10 10l.94 2.06.94-2.06 2.06-.94-2.06-.94-.94-2.06-.94 2.06-2.06.94z\"/><path d=\"M17.41 7.96l-1.37-1.37c-.4-.4-.92-.59-1.43-.59-.52 0-1.04.2-1.43.59L10.3 9.45l-7.72 7.72c-.78.78-.78 2.05 0 2.83L4 21.41c.39.39.9.59 1.41.59.51 0 1.02-.2 1.41-.59l7.78-7.78 2.81-2.81c.8-.78.8-2.07 0-2.86zM5.41 20L4 18.59l7.72-7.72 1.47 1.35L5.41 20z\"/>\n",
              "  </svg>\n",
              "      </button>\n",
              "      \n",
              "  <style>\n",
              "    .colab-df-container {\n",
              "      display:flex;\n",
              "      flex-wrap:wrap;\n",
              "      gap: 12px;\n",
              "    }\n",
              "\n",
              "    .colab-df-convert {\n",
              "      background-color: #E8F0FE;\n",
              "      border: none;\n",
              "      border-radius: 50%;\n",
              "      cursor: pointer;\n",
              "      display: none;\n",
              "      fill: #1967D2;\n",
              "      height: 32px;\n",
              "      padding: 0 0 0 0;\n",
              "      width: 32px;\n",
              "    }\n",
              "\n",
              "    .colab-df-convert:hover {\n",
              "      background-color: #E2EBFA;\n",
              "      box-shadow: 0px 1px 2px rgba(60, 64, 67, 0.3), 0px 1px 3px 1px rgba(60, 64, 67, 0.15);\n",
              "      fill: #174EA6;\n",
              "    }\n",
              "\n",
              "    [theme=dark] .colab-df-convert {\n",
              "      background-color: #3B4455;\n",
              "      fill: #D2E3FC;\n",
              "    }\n",
              "\n",
              "    [theme=dark] .colab-df-convert:hover {\n",
              "      background-color: #434B5C;\n",
              "      box-shadow: 0px 1px 3px 1px rgba(0, 0, 0, 0.15);\n",
              "      filter: drop-shadow(0px 1px 2px rgba(0, 0, 0, 0.3));\n",
              "      fill: #FFFFFF;\n",
              "    }\n",
              "  </style>\n",
              "\n",
              "      <script>\n",
              "        const buttonEl =\n",
              "          document.querySelector('#df-4ec215eb-ed0b-4cc2-a846-0fed7c30956f button.colab-df-convert');\n",
              "        buttonEl.style.display =\n",
              "          google.colab.kernel.accessAllowed ? 'block' : 'none';\n",
              "\n",
              "        async function convertToInteractive(key) {\n",
              "          const element = document.querySelector('#df-4ec215eb-ed0b-4cc2-a846-0fed7c30956f');\n",
              "          const dataTable =\n",
              "            await google.colab.kernel.invokeFunction('convertToInteractive',\n",
              "                                                     [key], {});\n",
              "          if (!dataTable) return;\n",
              "\n",
              "          const docLinkHtml = 'Like what you see? Visit the ' +\n",
              "            '<a target=\"_blank\" href=https://colab.research.google.com/notebooks/data_table.ipynb>data table notebook</a>'\n",
              "            + ' to learn more about interactive tables.';\n",
              "          element.innerHTML = '';\n",
              "          dataTable['output_type'] = 'display_data';\n",
              "          await google.colab.output.renderOutput(dataTable, element);\n",
              "          const docLink = document.createElement('div');\n",
              "          docLink.innerHTML = docLinkHtml;\n",
              "          element.appendChild(docLink);\n",
              "        }\n",
              "      </script>\n",
              "    </div>\n",
              "  </div>\n",
              "  "
            ]
          },
          "metadata": {},
          "execution_count": 42
        }
      ]
    },
    {
      "cell_type": "markdown",
      "source": [
        "## **Our Data is Highly skewed , we corrected values which are highly skewed below before modeling**"
      ],
      "metadata": {
        "id": "hDgIEvVgQMoW"
      }
    },
    {
      "cell_type": "markdown",
      "source": [
        "### Before correcting, monthly income dist plot."
      ],
      "metadata": {
        "id": "kxygSET6jM_X"
      }
    },
    {
      "cell_type": "code",
      "source": [
        "ax = sns.distplot(train['MonthlyIncome'])"
      ],
      "metadata": {
        "colab": {
          "base_uri": "https://localhost:8080/",
          "height": 345
        },
        "id": "zBqZ4OtajJef",
        "outputId": "4b00b056-c6a8-483d-f1c0-4ee29f24eb4a"
      },
      "execution_count": 10,
      "outputs": [
        {
          "output_type": "stream",
          "name": "stderr",
          "text": [
            "/usr/local/lib/python3.8/dist-packages/seaborn/distributions.py:2619: FutureWarning: `distplot` is a deprecated function and will be removed in a future version. Please adapt your code to use either `displot` (a figure-level function with similar flexibility) or `histplot` (an axes-level function for histograms).\n",
            "  warnings.warn(msg, FutureWarning)\n"
          ]
        },
        {
          "output_type": "display_data",
          "data": {
            "text/plain": [
              "<Figure size 432x288 with 1 Axes>"
            ],
            "image/png": "[encoded data removed]"
          },
          "metadata": {
            "needs_background": "light"
          }
        }
      ]
    },
    {
      "cell_type": "markdown",
      "source": [
        "## After correcting, monthly income dist plot."
      ],
      "metadata": {
        "id": "q6q5Mwl4jXVJ"
      }
    },
    {
      "cell_type": "code",
      "source": [
        "amount_corrected= np.log(train['MonthlyIncome' ]+1)\n",
        "train['DebtRatio'] = amount_corrected.skew()\n",
        "print(amount_corrected.skew())\n",
        "ax = sns.distplot(amount_corrected)"
      ],
      "metadata": {
        "colab": {
          "base_uri": "https://localhost:8080/",
          "height": 351
        },
        "id": "GypJz0RPhkPg",
        "outputId": "11ef320a-61cd-480c-fadd-993d04d1967c"
      },
      "execution_count": 11,
      "outputs": [
        {
          "output_type": "stream",
          "name": "stdout",
          "text": [
            "-4.364719539338408\n"
          ]
        },
        {
          "output_type": "stream",
          "name": "stderr",
          "text": [
            "/usr/local/lib/python3.8/dist-packages/seaborn/distributions.py:2619: FutureWarning: `distplot` is a deprecated function and will be removed in a future version. Please adapt your code to use either `displot` (a figure-level function with similar flexibility) or `histplot` (an axes-level function for histograms).\n",
            "  warnings.warn(msg, FutureWarning)\n"
          ]
        },
        {
          "output_type": "display_data",
          "data": {
            "text/plain": [
              "<Figure size 432x288 with 1 Axes>"
            ],
            "image/png": "[encoded data removed]"
          },
          "metadata": {
            "needs_background": "light"
          }
        }
      ]
    },
    {
      "cell_type": "markdown",
      "source": [
        "Similarly for other values."
      ],
      "metadata": {
        "id": "dXBN_VipjaMq"
      }
    },
    {
      "cell_type": "code",
      "source": [
        "amount_corrected= np.log(train['RevolvingUtilizationOfUnsecuredLines']+1)\n",
        "train['DebtRatio'] = amount_corrected.skew()\n",
        "print(amount_corrected.skew())\n",
        "ax = sns.distplot(amount_corrected)"
      ],
      "metadata": {
        "colab": {
          "base_uri": "https://localhost:8080/",
          "height": 351
        },
        "id": "03a-eT-yhqVh",
        "outputId": "d64c3825-9c35-46d2-f179-670453fc5470"
      },
      "execution_count": 12,
      "outputs": [
        {
          "output_type": "stream",
          "name": "stdout",
          "text": [
            "11.704798483586039\n"
          ]
        },
        {
          "output_type": "stream",
          "name": "stderr",
          "text": [
            "/usr/local/lib/python3.8/dist-packages/seaborn/distributions.py:2619: FutureWarning: `distplot` is a deprecated function and will be removed in a future version. Please adapt your code to use either `displot` (a figure-level function with similar flexibility) or `histplot` (an axes-level function for histograms).\n",
            "  warnings.warn(msg, FutureWarning)\n"
          ]
        },
        {
          "output_type": "display_data",
          "data": {
            "text/plain": [
              "<Figure size 432x288 with 1 Axes>"
            ],
            "image/png": "[encoded data removed]"
          },
          "metadata": {
            "needs_background": "light"
          }
        }
      ]
    },
    {
      "cell_type": "code",
      "source": [
        "amount_corrected= np.log(train['DebtRatio']+1)\n",
        "train['DebtRatio'] = amount_corrected.skew()\n",
        "print(amount_corrected.skew())\n",
        "ax = sns.distplot(amount_corrected)"
      ],
      "metadata": {
        "colab": {
          "base_uri": "https://localhost:8080/",
          "height": 386
        },
        "id": "hLq_YK54dQgn",
        "outputId": "39865716-610b-41ef-80b8-9d92a5f39b5a"
      },
      "execution_count": 13,
      "outputs": [
        {
          "output_type": "stream",
          "name": "stdout",
          "text": [
            "0\n"
          ]
        },
        {
          "output_type": "stream",
          "name": "stderr",
          "text": [
            "/usr/local/lib/python3.8/dist-packages/seaborn/distributions.py:2619: FutureWarning: `distplot` is a deprecated function and will be removed in a future version. Please adapt your code to use either `displot` (a figure-level function with similar flexibility) or `histplot` (an axes-level function for histograms).\n",
            "  warnings.warn(msg, FutureWarning)\n",
            "/usr/local/lib/python3.8/dist-packages/seaborn/distributions.py:316: UserWarning: Dataset has 0 variance; skipping density estimate. Pass `warn_singular=False` to disable this warning.\n",
            "  warnings.warn(msg, UserWarning)\n"
          ]
        },
        {
          "output_type": "display_data",
          "data": {
            "text/plain": [
              "<Figure size 432x288 with 1 Axes>"
            ],
            "image/png": "[encoded data removed]"
          },
          "metadata": {
            "needs_background": "light"
          }
        }
      ]
    },
    {
      "cell_type": "markdown",
      "source": [
        "# Step 6 : Remove low variance value variable \n",
        "Features with low variance should be eliminated\n"
      ],
      "metadata": {
        "id": "lXPhjkW4QO4m"
      }
    },
    {
      "cell_type": "code",
      "source": [
        "var= train.var().sort_values(ascending =True )\n",
        "var_df= pd.DataFrame({'var':var})\n",
        "var_df.head(10)"
      ],
      "metadata": {
        "colab": {
          "base_uri": "https://localhost:8080/",
          "height": 363
        },
        "id": "VLqc3ULzJgzF",
        "outputId": "ded3f182-a49b-40a9-d8c2-1c6adb87e590"
      },
      "execution_count": 15,
      "outputs": [
        {
          "output_type": "execute_result",
          "data": {
            "text/plain": [
              "                                               var\n",
              "DebtRatio                                 0.000000\n",
              "SeriousDlqin2yrs                          0.062373\n",
              "NumberOfDependents                        1.243417\n",
              "NumberRealEstateLoansOrLines              1.276382\n",
              "NumberOfTime60-89DaysPastDueNotWorse     17.265516\n",
              "NumberOfTimes90DaysLate                  17.383094\n",
              "NumberOfTime30-59DaysPastDueNotWorse     17.579415\n",
              "NumberOfOpenCreditLinesAndLoans          26.480812\n",
              "age                                     218.208021\n",
              "RevolvingUtilizationOfUnsecuredLines  62377.745156"
            ],
            "text/html": [
              "\n",
              "  <div id=\"df-d2f8d45c-e214-40f6-b1f2-1b9bc7b460af\">\n",
              "    <div class=\"colab-df-container\">\n",
              "      <div>\n",
              "<style scoped>\n",
              "    .dataframe tbody tr th:only-of-type {\n",
              "        vertical-align: middle;\n",
              "    }\n",
              "\n",
              "    .dataframe tbody tr th {\n",
              "        vertical-align: top;\n",
              "    }\n",
              "\n",
              "    .dataframe thead th {\n",
              "        text-align: right;\n",
              "    }\n",
              "</style>\n",
              "<table border=\"1\" class=\"dataframe\">\n",
              "  <thead>\n",
              "    <tr style=\"text-align: right;\">\n",
              "      <th></th>\n",
              "      <th>var</th>\n",
              "    </tr>\n",
              "  </thead>\n",
              "  <tbody>\n",
              "    <tr>\n",
              "      <th>DebtRatio</th>\n",
              "      <td>0.000000</td>\n",
              "    </tr>\n",
              "    <tr>\n",
              "      <th>SeriousDlqin2yrs</th>\n",
              "      <td>0.062373</td>\n",
              "    </tr>\n",
              "    <tr>\n",
              "      <th>NumberOfDependents</th>\n",
              "      <td>1.243417</td>\n",
              "    </tr>\n",
              "    <tr>\n",
              "      <th>NumberRealEstateLoansOrLines</th>\n",
              "      <td>1.276382</td>\n",
              "    </tr>\n",
              "    <tr>\n",
              "      <th>NumberOfTime60-89DaysPastDueNotWorse</th>\n",
              "      <td>17.265516</td>\n",
              "    </tr>\n",
              "    <tr>\n",
              "      <th>NumberOfTimes90DaysLate</th>\n",
              "      <td>17.383094</td>\n",
              "    </tr>\n",
              "    <tr>\n",
              "      <th>NumberOfTime30-59DaysPastDueNotWorse</th>\n",
              "      <td>17.579415</td>\n",
              "    </tr>\n",
              "    <tr>\n",
              "      <th>NumberOfOpenCreditLinesAndLoans</th>\n",
              "      <td>26.480812</td>\n",
              "    </tr>\n",
              "    <tr>\n",
              "      <th>age</th>\n",
              "      <td>218.208021</td>\n",
              "    </tr>\n",
              "    <tr>\n",
              "      <th>RevolvingUtilizationOfUnsecuredLines</th>\n",
              "      <td>62377.745156</td>\n",
              "    </tr>\n",
              "  </tbody>\n",
              "</table>\n",
              "</div>\n",
              "      <button class=\"colab-df-convert\" onclick=\"convertToInteractive('df-d2f8d45c-e214-40f6-b1f2-1b9bc7b460af')\"\n",
              "              title=\"Convert this dataframe to an interactive table.\"\n",
              "              style=\"display:none;\">\n",
              "        \n",
              "  <svg xmlns=\"http://www.w3.org/2000/svg\" height=\"24px\"viewBox=\"0 0 24 24\"\n",
              "       width=\"24px\">\n",
              "    <path d=\"M0 0h24v24H0V0z\" fill=\"none\"/>\n",
              "    <path d=\"M18.56 5.44l.94 2.06.94-2.06 2.06-.94-2.06-.94-.94-2.06-.94 2.06-2.06.94zm-11 1L8.5 8.5l.94-2.06 2.06-.94-2.06-.94L8.5 2.5l-.94 2.06-2.06.94zm10 10l.94 2.06.94-2.06 2.06-.94-2.06-.94-.94-2.06-.94 2.06-2.06.94z\"/><path d=\"M17.41 7.96l-1.37-1.37c-.4-.4-.92-.59-1.43-.59-.52 0-1.04.2-1.43.59L10.3 9.45l-7.72 7.72c-.78.78-.78 2.05 0 2.83L4 21.41c.39.39.9.59 1.41.59.51 0 1.02-.2 1.41-.59l7.78-7.78 2.81-2.81c.8-.78.8-2.07 0-2.86zM5.41 20L4 18.59l7.72-7.72 1.47 1.35L5.41 20z\"/>\n",
              "  </svg>\n",
              "      </button>\n",
              "      \n",
              "  <style>\n",
              "    .colab-df-container {\n",
              "      display:flex;\n",
              "      flex-wrap:wrap;\n",
              "      gap: 12px;\n",
              "    }\n",
              "\n",
              "    .colab-df-convert {\n",
              "      background-color: #E8F0FE;\n",
              "      border: none;\n",
              "      border-radius: 50%;\n",
              "      cursor: pointer;\n",
              "      display: none;\n",
              "      fill: #1967D2;\n",
              "      height: 32px;\n",
              "      padding: 0 0 0 0;\n",
              "      width: 32px;\n",
              "    }\n",
              "\n",
              "    .colab-df-convert:hover {\n",
              "      background-color: #E2EBFA;\n",
              "      box-shadow: 0px 1px 2px rgba(60, 64, 67, 0.3), 0px 1px 3px 1px rgba(60, 64, 67, 0.15);\n",
              "      fill: #174EA6;\n",
              "    }\n",
              "\n",
              "    [theme=dark] .colab-df-convert {\n",
              "      background-color: #3B4455;\n",
              "      fill: #D2E3FC;\n",
              "    }\n",
              "\n",
              "    [theme=dark] .colab-df-convert:hover {\n",
              "      background-color: #434B5C;\n",
              "      box-shadow: 0px 1px 3px 1px rgba(0, 0, 0, 0.15);\n",
              "      filter: drop-shadow(0px 1px 2px rgba(0, 0, 0, 0.3));\n",
              "      fill: #FFFFFF;\n",
              "    }\n",
              "  </style>\n",
              "\n",
              "      <script>\n",
              "        const buttonEl =\n",
              "          document.querySelector('#df-d2f8d45c-e214-40f6-b1f2-1b9bc7b460af button.colab-df-convert');\n",
              "        buttonEl.style.display =\n",
              "          google.colab.kernel.accessAllowed ? 'block' : 'none';\n",
              "\n",
              "        async function convertToInteractive(key) {\n",
              "          const element = document.querySelector('#df-d2f8d45c-e214-40f6-b1f2-1b9bc7b460af');\n",
              "          const dataTable =\n",
              "            await google.colab.kernel.invokeFunction('convertToInteractive',\n",
              "                                                     [key], {});\n",
              "          if (!dataTable) return;\n",
              "\n",
              "          const docLinkHtml = 'Like what you see? Visit the ' +\n",
              "            '<a target=\"_blank\" href=https://colab.research.google.com/notebooks/data_table.ipynb>data table notebook</a>'\n",
              "            + ' to learn more about interactive tables.';\n",
              "          element.innerHTML = '';\n",
              "          dataTable['output_type'] = 'display_data';\n",
              "          await google.colab.output.renderOutput(dataTable, element);\n",
              "          const docLink = document.createElement('div');\n",
              "          docLink.innerHTML = docLinkHtml;\n",
              "          element.appendChild(docLink);\n",
              "        }\n",
              "      </script>\n",
              "    </div>\n",
              "  </div>\n",
              "  "
            ]
          },
          "metadata": {},
          "execution_count": 15
        }
      ]
    },
    {
      "cell_type": "markdown",
      "source": [
        "# Removing Outliers"
      ],
      "metadata": {
        "id": "GSUS0U9-l5cO"
      }
    },
    {
      "cell_type": "markdown",
      "source": [
        "Identifying outliers in data is an important part of statistical analyses. One simple rule of thumb (due to John Tukey) for finding outliers is based on the quartiles of the data: the first quartile Q1 is >= 0.25 of the data, the second quartile Q2 >= 0.50 of the data, and the third quartile Q3 >= 0.75 of the data. The interquartile range is IQR = Q3-Q1. "
      ],
      "metadata": {
        "id": "d3xT4u4qQPfk"
      }
    },
    {
      "cell_type": "code",
      "source": [
        "Q1 = train.quantile(0.25)\n",
        "Q3 = train.quantile(0.75)\n",
        "IQR = Q3 - Q1\n",
        "\n",
        "train_val = train.select_dtypes(exclude=['category']) \n",
        "df_out = train_val[~((train_val < (Q1 - 1.5 * IQR))|(train_val > (Q3 + 1.5 * IQR))).any(axis=1)]\n",
        "print(df_out.shape)"
      ],
      "metadata": {
        "colab": {
          "base_uri": "https://localhost:8080/"
        },
        "id": "ayTC2kIlJoNR",
        "outputId": "b8adee2f-421c-4dfd-c84f-bbf36c981992"
      },
      "execution_count": 16,
      "outputs": [
        {
          "output_type": "stream",
          "name": "stdout",
          "text": [
            "(100701, 12)\n"
          ]
        }
      ]
    },
    {
      "cell_type": "markdown",
      "source": [
        "### (100701, 12) this is the shape of data keeped after eliminating outliers\n"
      ],
      "metadata": {
        "id": "FSBCNBalQQML"
      }
    },
    {
      "cell_type": "markdown",
      "source": [
        "# Arranging the high correlation values with the probability of loan accordingly"
      ],
      "metadata": {
        "id": "gHIgvnKLXtWn"
      }
    },
    {
      "cell_type": "code",
      "source": [
        "corrmat = train.corr()\n",
        "corr_with_target = corrmat['SeriousDlqin2yrs'].apply(abs).sort_values(ascending=False)\n",
        "corr_with_target.drop(['SeriousDlqin2yrs'], inplace=True)\n",
        "df = pd.DataFrame(data={'features': corr_with_target.index, 'target': corr_with_target.values})\n",
        "plt.figure(figsize=(20, 20))\n",
        "sns.barplot(x=\"target\", y=\"features\", data=df)\n",
        "plt.title('Correlation with target')\n",
        "plt.tight_layout()\n",
        "plt.show()"
      ],
      "metadata": {
        "colab": {
          "base_uri": "https://localhost:8080/",
          "height": 874
        },
        "id": "HkJXhSsRXrKq",
        "outputId": "ccb642d4-a335-4605-b62b-026608ab30e0"
      },
      "execution_count": 18,
      "outputs": [
        {
          "output_type": "display_data",
          "data": {
            "text/plain": [
              "<Figure size 1440x1440 with 1 Axes>"
            ],
            "image/png": "[encoded data removed]"
          },
          "metadata": {
            "needs_background": "light"
          }
        }
      ]
    },
    {
      "cell_type": "code",
      "source": [
        "train.describe().T"
      ],
      "metadata": {
        "colab": {
          "base_uri": "https://localhost:8080/",
          "height": 524
        },
        "id": "wbsLzgGDJ_I6",
        "outputId": "656b281f-faaa-4f7c-e20b-ea3192074589"
      },
      "execution_count": 17,
      "outputs": [
        {
          "output_type": "execute_result",
          "data": {
            "text/plain": [
              "                                         count          mean           std  \\\n",
              "Unnamed: 0                            150000.0  75000.500000  43301.414527   \n",
              "SeriousDlqin2yrs                      150000.0      0.066840      0.249746   \n",
              "RevolvingUtilizationOfUnsecuredLines  150000.0      6.048438    249.755371   \n",
              "age                                   150000.0     52.295207     14.771866   \n",
              "NumberOfTime30-59DaysPastDueNotWorse  150000.0      0.421033      4.192781   \n",
              "DebtRatio                             150000.0      0.000000      0.000000   \n",
              "MonthlyIncome                         120269.0   6670.221237  14384.674215   \n",
              "NumberOfOpenCreditLinesAndLoans       150000.0      8.452760      5.145951   \n",
              "NumberOfTimes90DaysLate               150000.0      0.265973      4.169304   \n",
              "NumberRealEstateLoansOrLines          150000.0      1.018240      1.129771   \n",
              "NumberOfTime60-89DaysPastDueNotWorse  150000.0      0.240387      4.155179   \n",
              "NumberOfDependents                    146076.0      0.757222      1.115086   \n",
              "\n",
              "                                      min           25%           50%  \\\n",
              "Unnamed: 0                            1.0  37500.750000  75000.500000   \n",
              "SeriousDlqin2yrs                      0.0      0.000000      0.000000   \n",
              "RevolvingUtilizationOfUnsecuredLines  0.0      0.029867      0.154181   \n",
              "age                                   0.0     41.000000     52.000000   \n",
              "NumberOfTime30-59DaysPastDueNotWorse  0.0      0.000000      0.000000   \n",
              "DebtRatio                             0.0      0.000000      0.000000   \n",
              "MonthlyIncome                         0.0   3400.000000   5400.000000   \n",
              "NumberOfOpenCreditLinesAndLoans       0.0      5.000000      8.000000   \n",
              "NumberOfTimes90DaysLate               0.0      0.000000      0.000000   \n",
              "NumberRealEstateLoansOrLines          0.0      0.000000      1.000000   \n",
              "NumberOfTime60-89DaysPastDueNotWorse  0.0      0.000000      0.000000   \n",
              "NumberOfDependents                    0.0      0.000000      0.000000   \n",
              "\n",
              "                                                75%        max  \n",
              "Unnamed: 0                            112500.250000   150000.0  \n",
              "SeriousDlqin2yrs                           0.000000        1.0  \n",
              "RevolvingUtilizationOfUnsecuredLines       0.559046    50708.0  \n",
              "age                                       63.000000      109.0  \n",
              "NumberOfTime30-59DaysPastDueNotWorse       0.000000       98.0  \n",
              "DebtRatio                                  0.000000        0.0  \n",
              "MonthlyIncome                           8249.000000  3008750.0  \n",
              "NumberOfOpenCreditLinesAndLoans           11.000000       58.0  \n",
              "NumberOfTimes90DaysLate                    0.000000       98.0  \n",
              "NumberRealEstateLoansOrLines               2.000000       54.0  \n",
              "NumberOfTime60-89DaysPastDueNotWorse       0.000000       98.0  \n",
              "NumberOfDependents                         1.000000       20.0  "
            ],
            "text/html": [
              "\n",
              "  <div id=\"df-7bdd09d0-74e4-4f31-a82c-5b27fd3bbd79\">\n",
              "    <div class=\"colab-df-container\">\n",
              "      <div>\n",
              "<style scoped>\n",
              "    .dataframe tbody tr th:only-of-type {\n",
              "        vertical-align: middle;\n",
              "    }\n",
              "\n",
              "    .dataframe tbody tr th {\n",
              "        vertical-align: top;\n",
              "    }\n",
              "\n",
              "    .dataframe thead th {\n",
              "        text-align: right;\n",
              "    }\n",
              "</style>\n",
              "<table border=\"1\" class=\"dataframe\">\n",
              "  <thead>\n",
              "    <tr style=\"text-align: right;\">\n",
              "      <th></th>\n",
              "      <th>count</th>\n",
              "      <th>mean</th>\n",
              "      <th>std</th>\n",
              "      <th>min</th>\n",
              "      <th>25%</th>\n",
              "      <th>50%</th>\n",
              "      <th>75%</th>\n",
              "      <th>max</th>\n",
              "    </tr>\n",
              "  </thead>\n",
              "  <tbody>\n",
              "    <tr>\n",
              "      <th>Unnamed: 0</th>\n",
              "      <td>150000.0</td>\n",
              "      <td>75000.500000</td>\n",
              "      <td>43301.414527</td>\n",
              "      <td>1.0</td>\n",
              "      <td>37500.750000</td>\n",
              "      <td>75000.500000</td>\n",
              "      <td>112500.250000</td>\n",
              "      <td>150000.0</td>\n",
              "    </tr>\n",
              "    <tr>\n",
              "      <th>SeriousDlqin2yrs</th>\n",
              "      <td>150000.0</td>\n",
              "      <td>0.066840</td>\n",
              "      <td>0.249746</td>\n",
              "      <td>0.0</td>\n",
              "      <td>0.000000</td>\n",
              "      <td>0.000000</td>\n",
              "      <td>0.000000</td>\n",
              "      <td>1.0</td>\n",
              "    </tr>\n",
              "    <tr>\n",
              "      <th>RevolvingUtilizationOfUnsecuredLines</th>\n",
              "      <td>150000.0</td>\n",
              "      <td>6.048438</td>\n",
              "      <td>249.755371</td>\n",
              "      <td>0.0</td>\n",
              "      <td>0.029867</td>\n",
              "      <td>0.154181</td>\n",
              "      <td>0.559046</td>\n",
              "      <td>50708.0</td>\n",
              "    </tr>\n",
              "    <tr>\n",
              "      <th>age</th>\n",
              "      <td>150000.0</td>\n",
              "      <td>52.295207</td>\n",
              "      <td>14.771866</td>\n",
              "      <td>0.0</td>\n",
              "      <td>41.000000</td>\n",
              "      <td>52.000000</td>\n",
              "      <td>63.000000</td>\n",
              "      <td>109.0</td>\n",
              "    </tr>\n",
              "    <tr>\n",
              "      <th>NumberOfTime30-59DaysPastDueNotWorse</th>\n",
              "      <td>150000.0</td>\n",
              "      <td>0.421033</td>\n",
              "      <td>4.192781</td>\n",
              "      <td>0.0</td>\n",
              "      <td>0.000000</td>\n",
              "      <td>0.000000</td>\n",
              "      <td>0.000000</td>\n",
              "      <td>98.0</td>\n",
              "    </tr>\n",
              "    <tr>\n",
              "      <th>DebtRatio</th>\n",
              "      <td>150000.0</td>\n",
              "      <td>0.000000</td>\n",
              "      <td>0.000000</td>\n",
              "      <td>0.0</td>\n",
              "      <td>0.000000</td>\n",
              "      <td>0.000000</td>\n",
              "      <td>0.000000</td>\n",
              "      <td>0.0</td>\n",
              "    </tr>\n",
              "    <tr>\n",
              "      <th>MonthlyIncome</th>\n",
              "      <td>120269.0</td>\n",
              "      <td>6670.221237</td>\n",
              "      <td>14384.674215</td>\n",
              "      <td>0.0</td>\n",
              "      <td>3400.000000</td>\n",
              "      <td>5400.000000</td>\n",
              "      <td>8249.000000</td>\n",
              "      <td>3008750.0</td>\n",
              "    </tr>\n",
              "    <tr>\n",
              "      <th>NumberOfOpenCreditLinesAndLoans</th>\n",
              "      <td>150000.0</td>\n",
              "      <td>8.452760</td>\n",
              "      <td>5.145951</td>\n",
              "      <td>0.0</td>\n",
              "      <td>5.000000</td>\n",
              "      <td>8.000000</td>\n",
              "      <td>11.000000</td>\n",
              "      <td>58.0</td>\n",
              "    </tr>\n",
              "    <tr>\n",
              "      <th>NumberOfTimes90DaysLate</th>\n",
              "      <td>150000.0</td>\n",
              "      <td>0.265973</td>\n",
              "      <td>4.169304</td>\n",
              "      <td>0.0</td>\n",
              "      <td>0.000000</td>\n",
              "      <td>0.000000</td>\n",
              "      <td>0.000000</td>\n",
              "      <td>98.0</td>\n",
              "    </tr>\n",
              "    <tr>\n",
              "      <th>NumberRealEstateLoansOrLines</th>\n",
              "      <td>150000.0</td>\n",
              "      <td>1.018240</td>\n",
              "      <td>1.129771</td>\n",
              "      <td>0.0</td>\n",
              "      <td>0.000000</td>\n",
              "      <td>1.000000</td>\n",
              "      <td>2.000000</td>\n",
              "      <td>54.0</td>\n",
              "    </tr>\n",
              "    <tr>\n",
              "      <th>NumberOfTime60-89DaysPastDueNotWorse</th>\n",
              "      <td>150000.0</td>\n",
              "      <td>0.240387</td>\n",
              "      <td>4.155179</td>\n",
              "      <td>0.0</td>\n",
              "      <td>0.000000</td>\n",
              "      <td>0.000000</td>\n",
              "      <td>0.000000</td>\n",
              "      <td>98.0</td>\n",
              "    </tr>\n",
              "    <tr>\n",
              "      <th>NumberOfDependents</th>\n",
              "      <td>146076.0</td>\n",
              "      <td>0.757222</td>\n",
              "      <td>1.115086</td>\n",
              "      <td>0.0</td>\n",
              "      <td>0.000000</td>\n",
              "      <td>0.000000</td>\n",
              "      <td>1.000000</td>\n",
              "      <td>20.0</td>\n",
              "    </tr>\n",
              "  </tbody>\n",
              "</table>\n",
              "</div>\n",
              "      <button class=\"colab-df-convert\" onclick=\"convertToInteractive('df-7bdd09d0-74e4-4f31-a82c-5b27fd3bbd79')\"\n",
              "              title=\"Convert this dataframe to an interactive table.\"\n",
              "              style=\"display:none;\">\n",
              "        \n",
              "  <svg xmlns=\"http://www.w3.org/2000/svg\" height=\"24px\"viewBox=\"0 0 24 24\"\n",
              "       width=\"24px\">\n",
              "    <path d=\"M0 0h24v24H0V0z\" fill=\"none\"/>\n",
              "    <path d=\"M18.56 5.44l.94 2.06.94-2.06 2.06-.94-2.06-.94-.94-2.06-.94 2.06-2.06.94zm-11 1L8.5 8.5l.94-2.06 2.06-.94-2.06-.94L8.5 2.5l-.94 2.06-2.06.94zm10 10l.94 2.06.94-2.06 2.06-.94-2.06-.94-.94-2.06-.94 2.06-2.06.94z\"/><path d=\"M17.41 7.96l-1.37-1.37c-.4-.4-.92-.59-1.43-.59-.52 0-1.04.2-1.43.59L10.3 9.45l-7.72 7.72c-.78.78-.78 2.05 0 2.83L4 21.41c.39.39.9.59 1.41.59.51 0 1.02-.2 1.41-.59l7.78-7.78 2.81-2.81c.8-.78.8-2.07 0-2.86zM5.41 20L4 18.59l7.72-7.72 1.47 1.35L5.41 20z\"/>\n",
              "  </svg>\n",
              "      </button>\n",
              "      \n",
              "  <style>\n",
              "    .colab-df-container {\n",
              "      display:flex;\n",
              "      flex-wrap:wrap;\n",
              "      gap: 12px;\n",
              "    }\n",
              "\n",
              "    .colab-df-convert {\n",
              "      background-color: #E8F0FE;\n",
              "      border: none;\n",
              "      border-radius: 50%;\n",
              "      cursor: pointer;\n",
              "      display: none;\n",
              "      fill: #1967D2;\n",
              "      height: 32px;\n",
              "      padding: 0 0 0 0;\n",
              "      width: 32px;\n",
              "    }\n",
              "\n",
              "    .colab-df-convert:hover {\n",
              "      background-color: #E2EBFA;\n",
              "      box-shadow: 0px 1px 2px rgba(60, 64, 67, 0.3), 0px 1px 3px 1px rgba(60, 64, 67, 0.15);\n",
              "      fill: #174EA6;\n",
              "    }\n",
              "\n",
              "    [theme=dark] .colab-df-convert {\n",
              "      background-color: #3B4455;\n",
              "      fill: #D2E3FC;\n",
              "    }\n",
              "\n",
              "    [theme=dark] .colab-df-convert:hover {\n",
              "      background-color: #434B5C;\n",
              "      box-shadow: 0px 1px 3px 1px rgba(0, 0, 0, 0.15);\n",
              "      filter: drop-shadow(0px 1px 2px rgba(0, 0, 0, 0.3));\n",
              "      fill: #FFFFFF;\n",
              "    }\n",
              "  </style>\n",
              "\n",
              "      <script>\n",
              "        const buttonEl =\n",
              "          document.querySelector('#df-7bdd09d0-74e4-4f31-a82c-5b27fd3bbd79 button.colab-df-convert');\n",
              "        buttonEl.style.display =\n",
              "          google.colab.kernel.accessAllowed ? 'block' : 'none';\n",
              "\n",
              "        async function convertToInteractive(key) {\n",
              "          const element = document.querySelector('#df-7bdd09d0-74e4-4f31-a82c-5b27fd3bbd79');\n",
              "          const dataTable =\n",
              "            await google.colab.kernel.invokeFunction('convertToInteractive',\n",
              "                                                     [key], {});\n",
              "          if (!dataTable) return;\n",
              "\n",
              "          const docLinkHtml = 'Like what you see? Visit the ' +\n",
              "            '<a target=\"_blank\" href=https://colab.research.google.com/notebooks/data_table.ipynb>data table notebook</a>'\n",
              "            + ' to learn more about interactive tables.';\n",
              "          element.innerHTML = '';\n",
              "          dataTable['output_type'] = 'display_data';\n",
              "          await google.colab.output.renderOutput(dataTable, element);\n",
              "          const docLink = document.createElement('div');\n",
              "          docLink.innerHTML = docLinkHtml;\n",
              "          element.appendChild(docLink);\n",
              "        }\n",
              "      </script>\n",
              "    </div>\n",
              "  </div>\n",
              "  "
            ]
          },
          "metadata": {},
          "execution_count": 17
        }
      ]
    },
    {
      "cell_type": "markdown",
      "source": [
        "### Our target value is SeriousDlqin2yrs so we will store in variable y and rest data in X for prediction"
      ],
      "metadata": {
        "id": "kKBo8rvgQTod"
      }
    },
    {
      "cell_type": "code",
      "source": [
        "target= \"SeriousDlqin2yrs\"\n",
        "X = train.drop(['SeriousDlqin2yrs','Unnamed: 0'], axis='columns')\n",
        "y = train[target]"
      ],
      "metadata": {
        "id": "prUFmFxLKs4d"
      },
      "execution_count": 19,
      "outputs": []
    },
    {
      "cell_type": "markdown",
      "source": [
        "### Splitting the dataset in ratio of 80:20 for training and testing dataset respectively."
      ],
      "metadata": {
        "id": "VNWVOdbmj7fj"
      }
    },
    {
      "cell_type": "code",
      "source": [
        "from sklearn.model_selection import train_test_split"
      ],
      "metadata": {
        "id": "-mmv5EtJLZsP"
      },
      "execution_count": 21,
      "outputs": []
    },
    {
      "cell_type": "code",
      "source": [
        "X_train, X_test, y_train, y_test = train_test_split(X, y, test_size=0.2,random_state=0,stratify=y )\n",
        "print(\"{} rows in test set vs. {} in training set. {} Features.\".format(X_test.shape[0], X_train.shape[0], X_test.shape[1]))"
      ],
      "metadata": {
        "id": "cZvrWx4DJ_PQ",
        "colab": {
          "base_uri": "https://localhost:8080/"
        },
        "outputId": "4118c0c2-b314-4fa4-da7b-feaceb7adc6a"
      },
      "execution_count": 22,
      "outputs": [
        {
          "output_type": "stream",
          "name": "stdout",
          "text": [
            "30000 rows in test set vs. 120000 in training set. 10 Features.\n"
          ]
        }
      ]
    }
  ]
}